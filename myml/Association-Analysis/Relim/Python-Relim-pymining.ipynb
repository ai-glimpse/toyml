{
 "cells": [
  {
   "cell_type": "markdown",
   "metadata": {},
   "source": [
    "### Python调用Relim算法\n",
    "\n",
    "利用Relim算法找出频繁项集。\n",
    "\n",
    "注意这里的pymining的源码可以研究下, 其还同时实现了Fp-Growth, Sam， Frequent Sequence Mining等算法。"
   ]
  },
  {
   "cell_type": "code",
   "execution_count": 6,
   "metadata": {
    "ExecuteTime": {
     "end_time": "2019-06-10T03:21:28.373081Z",
     "start_time": "2019-06-10T03:21:28.356719Z"
    }
   },
   "outputs": [
    {
     "data": {
      "text/plain": [
       "{frozenset({'a'}): 3,\n",
       " frozenset({'a', 'c'}): 2,\n",
       " frozenset({'b'}): 4,\n",
       " frozenset({'b', 'c'}): 3,\n",
       " frozenset({'c'}): 4}"
      ]
     },
     "execution_count": 6,
     "metadata": {},
     "output_type": "execute_result"
    }
   ],
   "source": [
    "from pymining import itemmining\n",
    "transactions = (('a', 'b', 'c'), ('b'), ('a'), ('a', 'c', 'd'), ('b', 'c'), ('b', 'c'))\n",
    "relim_input = itemmining.get_relim_input(transactions)\n",
    "item_sets= itemmining.relim(relim_input, min_support=2)\n",
    "item_sets"
   ]
  },
  {
   "cell_type": "code",
   "execution_count": 8,
   "metadata": {
    "ExecuteTime": {
     "end_time": "2019-06-10T03:21:35.668116Z",
     "start_time": "2019-06-10T03:21:35.650530Z"
    }
   },
   "outputs": [
    {
     "data": {
      "text/plain": [
       "[(frozenset({'c'}), frozenset({'a'}), 2, 0.5),\n",
       " (frozenset({'a'}), frozenset({'c'}), 2, 0.6666666666666666),\n",
       " (frozenset({'c'}), frozenset({'b'}), 3, 0.75),\n",
       " (frozenset({'b'}), frozenset({'c'}), 3, 0.75)]"
      ]
     },
     "execution_count": 8,
     "metadata": {},
     "output_type": "execute_result"
    }
   ],
   "source": [
    "from pymining import assocrules\n",
    "rules = assocrules.mine_assoc_rules(item_sets, min_support=2, min_confidence=0.5)\n",
    "rules"
   ]
  },
  {
   "cell_type": "code",
   "execution_count": null,
   "metadata": {},
   "outputs": [],
   "source": []
  }
 ],
 "metadata": {
  "kernelspec": {
   "display_name": "Python 3",
   "language": "python",
   "name": "python3"
  },
  "language_info": {
   "codemirror_mode": {
    "name": "ipython",
    "version": 3
   },
   "file_extension": ".py",
   "mimetype": "text/x-python",
   "name": "python",
   "nbconvert_exporter": "python",
   "pygments_lexer": "ipython3",
   "version": "3.6.8"
  },
  "toc": {
   "nav_menu": {},
   "number_sections": false,
   "sideBar": true,
   "skip_h1_title": false,
   "title_cell": "Table of Contents",
   "title_sidebar": "Contents",
   "toc_cell": false,
   "toc_position": {},
   "toc_section_display": true,
   "toc_window_display": false
  }
 },
 "nbformat": 4,
 "nbformat_minor": 2
}
