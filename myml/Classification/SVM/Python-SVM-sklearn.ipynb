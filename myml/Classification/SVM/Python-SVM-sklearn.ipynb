{
 "cells": [
  {
   "cell_type": "markdown",
   "metadata": {},
   "source": [
    "### SVM算法的调用——sklearn\n",
    "\n",
    "参考[sklearn doc](https://scikit-learn.org/stable/modules/svm.html)"
   ]
  },
  {
   "cell_type": "markdown",
   "metadata": {},
   "source": [
    "#### Classification demo"
   ]
  },
  {
   "cell_type": "code",
   "execution_count": 1,
   "metadata": {
    "ExecuteTime": {
     "end_time": "2019-07-06T14:42:57.741985Z",
     "start_time": "2019-07-06T14:42:50.888369Z"
    }
   },
   "outputs": [
    {
     "data": {
      "text/plain": [
       "SVC(C=1.0, cache_size=200, class_weight=None, coef0=0.0,\n",
       "  decision_function_shape='ovr', degree=3, gamma='scale', kernel='rbf',\n",
       "  max_iter=-1, probability=False, random_state=None, shrinking=True,\n",
       "  tol=0.001, verbose=False)"
      ]
     },
     "execution_count": 1,
     "metadata": {},
     "output_type": "execute_result"
    }
   ],
   "source": [
    "from sklearn import svm\n",
    "X = [[0, 0], [1, 1]]\n",
    "y = [0, 1]\n",
    "clf = svm.SVC(gamma='scale')\n",
    "clf.fit(X, y) "
   ]
  },
  {
   "cell_type": "code",
   "execution_count": 2,
   "metadata": {
    "ExecuteTime": {
     "end_time": "2019-07-06T14:43:01.694399Z",
     "start_time": "2019-07-06T14:43:01.682477Z"
    }
   },
   "outputs": [
    {
     "data": {
      "text/plain": [
       "array([1])"
      ]
     },
     "execution_count": 2,
     "metadata": {},
     "output_type": "execute_result"
    }
   ],
   "source": [
    "clf.predict([[2., 2.]])"
   ]
  },
  {
   "cell_type": "code",
   "execution_count": 3,
   "metadata": {
    "ExecuteTime": {
     "end_time": "2019-07-06T14:43:14.069556Z",
     "start_time": "2019-07-06T14:43:14.053481Z"
    }
   },
   "outputs": [
    {
     "data": {
      "text/plain": [
       "array([[0., 0.],\n",
       "       [1., 1.]])"
      ]
     },
     "execution_count": 3,
     "metadata": {},
     "output_type": "execute_result"
    }
   ],
   "source": [
    "# get support vectors\n",
    "clf.support_vectors_"
   ]
  },
  {
   "cell_type": "code",
   "execution_count": 4,
   "metadata": {
    "ExecuteTime": {
     "end_time": "2019-07-06T14:43:21.776327Z",
     "start_time": "2019-07-06T14:43:21.752594Z"
    }
   },
   "outputs": [
    {
     "data": {
      "text/plain": [
       "array([0, 1], dtype=int32)"
      ]
     },
     "execution_count": 4,
     "metadata": {},
     "output_type": "execute_result"
    }
   ],
   "source": [
    "# get indices of support vectors\n",
    "clf.support_ "
   ]
  },
  {
   "cell_type": "code",
   "execution_count": 5,
   "metadata": {
    "ExecuteTime": {
     "end_time": "2019-07-06T14:43:24.861126Z",
     "start_time": "2019-07-06T14:43:24.851697Z"
    }
   },
   "outputs": [
    {
     "data": {
      "text/plain": [
       "array([1, 1], dtype=int32)"
      ]
     },
     "execution_count": 5,
     "metadata": {},
     "output_type": "execute_result"
    }
   ],
   "source": [
    "# get number of support vectors for each class\n",
    "clf.n_support_ "
   ]
  },
  {
   "cell_type": "markdown",
   "metadata": {},
   "source": [
    "#### Classification with kernel"
   ]
  },
  {
   "cell_type": "code",
   "execution_count": 14,
   "metadata": {
    "ExecuteTime": {
     "end_time": "2019-07-06T14:47:57.703836Z",
     "start_time": "2019-07-06T14:47:57.692794Z"
    }
   },
   "outputs": [
    {
     "name": "stdout",
     "output_type": "stream",
     "text": [
      "Help on function subplot in module matplotlib.pyplot:\n",
      "\n",
      "subplot(*args, **kwargs)\n",
      "    Return a subplot axes positioned by the given grid definition.\n",
      "    \n",
      "    Typical call signature::\n",
      "    \n",
      "      subplot(nrows, ncols, plot_number)\n",
      "    \n",
      "    Where *nrows* and *ncols* are used to notionally split the figure\n",
      "    into ``nrows * ncols`` sub-axes, and *plot_number* is used to identify\n",
      "    the particular subplot that this function is to create within the notional\n",
      "    grid. *plot_number* starts at 1, increments across rows first and has a\n",
      "    maximum of ``nrows * ncols``.\n",
      "    \n",
      "    In the case when *nrows*, *ncols* and *plot_number* are all less than 10,\n",
      "    a convenience exists, such that the a 3 digit number can be given instead,\n",
      "    where the hundreds represent *nrows*, the tens represent *ncols* and the\n",
      "    units represent *plot_number*. For instance::\n",
      "    \n",
      "      subplot(211)\n",
      "    \n",
      "    produces a subaxes in a figure which represents the top plot (i.e. the\n",
      "    first) in a 2 row by 1 column notional grid (no grid actually exists,\n",
      "    but conceptually this is how the returned subplot has been positioned).\n",
      "    \n",
      "    .. note::\n",
      "    \n",
      "       Creating a subplot will delete any pre-existing subplot that overlaps\n",
      "       with it beyond sharing a boundary::\n",
      "    \n",
      "          import matplotlib.pyplot as plt\n",
      "          # plot a line, implicitly creating a subplot(111)\n",
      "          plt.plot([1,2,3])\n",
      "          # now create a subplot which represents the top plot of a grid\n",
      "          # with 2 rows and 1 column. Since this subplot will overlap the\n",
      "          # first, the plot (and its axes) previously created, will be removed\n",
      "          plt.subplot(211)\n",
      "          plt.plot(range(12))\n",
      "          plt.subplot(212, facecolor='y') # creates 2nd subplot with yellow background\n",
      "    \n",
      "       If you do not want this behavior, use the\n",
      "       :meth:`~matplotlib.figure.Figure.add_subplot` method or the\n",
      "       :func:`~matplotlib.pyplot.axes` function instead.\n",
      "    \n",
      "    Keyword arguments:\n",
      "    \n",
      "      *facecolor*:\n",
      "        The background color of the subplot, which can be any valid\n",
      "        color specifier.  See :mod:`matplotlib.colors` for more\n",
      "        information.\n",
      "    \n",
      "      *polar*:\n",
      "        A boolean flag indicating whether the subplot plot should be\n",
      "        a polar projection.  Defaults to *False*.\n",
      "    \n",
      "      *projection*:\n",
      "        A string giving the name of a custom projection to be used\n",
      "        for the subplot. This projection must have been previously\n",
      "        registered. See :mod:`matplotlib.projections`.\n",
      "    \n",
      "    .. seealso::\n",
      "    \n",
      "        :func:`~matplotlib.pyplot.axes`\n",
      "            For additional information on :func:`axes` and\n",
      "            :func:`subplot` keyword arguments.\n",
      "    \n",
      "        :file:`examples/pie_and_polar_charts/polar_scatter_demo.py`\n",
      "            For an example\n",
      "    \n",
      "    **Example:**\n",
      "    \n",
      "    .. plot:: mpl_examples/subplots_axes_and_figures/subplot_demo.py\n",
      "\n"
     ]
    }
   ],
   "source": [
    "help(plt.subplot)"
   ]
  },
  {
   "cell_type": "code",
   "execution_count": null,
   "metadata": {},
   "outputs": [],
   "source": []
  }
 ],
 "metadata": {
  "kernelspec": {
   "display_name": "Python 3",
   "language": "python",
   "name": "python3"
  },
  "language_info": {
   "codemirror_mode": {
    "name": "ipython",
    "version": 3
   },
   "file_extension": ".py",
   "mimetype": "text/x-python",
   "name": "python",
   "nbconvert_exporter": "python",
   "pygments_lexer": "ipython3",
   "version": "3.6.8"
  },
  "toc": {
   "nav_menu": {},
   "number_sections": false,
   "sideBar": true,
   "skip_h1_title": false,
   "title_cell": "Table of Contents",
   "title_sidebar": "Contents",
   "toc_cell": false,
   "toc_position": {},
   "toc_section_display": true,
   "toc_window_display": true
  }
 },
 "nbformat": 4,
 "nbformat_minor": 2
}
