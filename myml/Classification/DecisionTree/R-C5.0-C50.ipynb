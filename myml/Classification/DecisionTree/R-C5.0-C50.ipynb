{
 "cells": [
  {
   "cell_type": "markdown",
   "metadata": {},
   "source": [
    "### R实现C5.0——C50\n",
    "\n",
    "通过[库C50](https://www.rulequest.com/see5-info.html) 实现决策树算法C5.0.以下主要参考[C5.0 Classification Models](https://cran.r-project.org/web/packages/C50/vignettes/C5.0.html) "
   ]
  },
  {
   "cell_type": "markdown",
   "metadata": {},
   "source": [
    "#### Classification Trees"
   ]
  },
  {
   "cell_type": "code",
   "execution_count": 3,
   "metadata": {
    "ExecuteTime": {
     "end_time": "2019-04-05T14:01:36.181991Z",
     "start_time": "2019-04-05T14:01:36.126Z"
    }
   },
   "outputs": [
    {
     "name": "stdout",
     "output_type": "stream",
     "text": [
      "'data.frame':\t4454 obs. of  3 variables:\n",
      " $ Home     : Factor w/ 6 levels \"ignore\",\"other\",..: 6 6 3 6 6 3 3 4 3 4 ...\n",
      " $ Seniority: int  9 17 10 0 0 1 29 9 0 0 ...\n",
      " $ Status   : Factor w/ 2 levels \"bad\",\"good\": 2 2 1 2 2 2 2 2 2 1 ...\n"
     ]
    }
   ],
   "source": [
    "library(recipes)\n",
    "data(credit_data)\n",
    "# 查看数据\n",
    "vars <- c(\"Home\", \"Seniority\")\n",
    "str(credit_data[, c(vars, \"Status\")])"
   ]
  },
  {
   "cell_type": "code",
   "execution_count": 4,
   "metadata": {
    "ExecuteTime": {
     "end_time": "2019-04-05T14:01:46.963649Z",
     "start_time": "2019-04-05T14:01:46.919Z"
    }
   },
   "outputs": [],
   "source": [
    "# a simple split\n",
    "set.seed(2411)\n",
    "in_train <- sample(1:nrow(credit_data), size = 3000)\n",
    "train_data <- credit_data[ in_train,]\n",
    "test_data  <- credit_data[-in_train,]"
   ]
  },
  {
   "cell_type": "code",
   "execution_count": 5,
   "metadata": {
    "ExecuteTime": {
     "end_time": "2019-04-05T14:01:52.244182Z",
     "start_time": "2019-04-05T14:01:51.975Z"
    }
   },
   "outputs": [
    {
     "data": {
      "text/plain": [
       "\n",
       "Call:\n",
       "C5.0.default(x = train_data[, vars], y = train_data$Status)\n",
       "\n",
       "Classification Tree\n",
       "Number of samples: 3000 \n",
       "Number of predictors: 2 \n",
       "\n",
       "Tree size: 3 \n",
       "\n",
       "Non-standard options: attempt to group attributes\n"
      ]
     },
     "metadata": {},
     "output_type": "display_data"
    }
   ],
   "source": [
    "library(C50)\n",
    "tree_mod <- C5.0(x = train_data[, vars], y = train_data$Status)\n",
    "tree_mod"
   ]
  },
  {
   "cell_type": "code",
   "execution_count": 6,
   "metadata": {
    "ExecuteTime": {
     "end_time": "2019-04-05T14:02:05.201258Z",
     "start_time": "2019-04-05T14:02:05.170Z"
    }
   },
   "outputs": [
    {
     "data": {
      "text/plain": [
       "\n",
       "Call:\n",
       "C5.0.default(x = train_data[, vars], y = train_data$Status)\n",
       "\n",
       "\n",
       "C5.0 [Release 2.07 GPL Edition]  \tFri Apr  5 22:01:52 2019\n",
       "-------------------------------\n",
       "\n",
       "Class specified by attribute `outcome'\n",
       "\n",
       "Read 3000 cases (3 attributes) from undefined.data\n",
       "\n",
       "Decision tree:\n",
       "\n",
       "Seniority > 2: good (1971/396)\n",
       "Seniority <= 2:\n",
       ":...Home in {ignore,other,priv,rent}: bad (411.4/171)\n",
       "    Home in {owner,parents}: good (617.6/226.6)\n",
       "\n",
       "\n",
       "Evaluation on training data (3000 cases):\n",
       "\n",
       "\t    Decision Tree   \n",
       "\t  ----------------  \n",
       "\t  Size      Errors  \n",
       "\n",
       "\t     3  794(26.5%)   <<\n",
       "\n",
       "\n",
       "\t   (a)   (b)    <-classified as\n",
       "\t  ----  ----\n",
       "\t   240   623    (a): class bad\n",
       "\t   171  1966    (b): class good\n",
       "\n",
       "\n",
       "\tAttribute usage:\n",
       "\n",
       "\t100.00%\tSeniority\n",
       "\t 34.27%\tHome\n",
       "\n",
       "\n",
       "Time: 0.0 secs\n"
      ]
     },
     "metadata": {},
     "output_type": "display_data"
    }
   ],
   "source": [
    "summary(tree_mod)"
   ]
  },
  {
   "cell_type": "code",
   "execution_count": 10,
   "metadata": {
    "ExecuteTime": {
     "end_time": "2019-04-05T14:03:30.357483Z",
     "start_time": "2019-04-05T14:03:30.168Z"
    }
   },
   "outputs": [
    {
     "data": {
      "image/png": "[encoded data removed]",
      "text/plain": [
       "plot without title"
      ]
     },
     "metadata": {},
     "output_type": "display_data"
    }
   ],
   "source": [
    "options(repr.plot.width=10, repr.plot.height=6)  # plot size\n",
    "plot(tree_mod)"
   ]
  },
  {
   "cell_type": "markdown",
   "metadata": {},
   "source": [
    "Another option that can be used is the trials argument which enables a boosting procedure. This method is model similar to AdaBoost than to more statistical approaches such as stochastic gradient boosting."
   ]
  },
  {
   "cell_type": "code",
   "execution_count": 19,
   "metadata": {
    "ExecuteTime": {
     "end_time": "2019-04-05T14:05:26.506143Z",
     "start_time": "2019-04-05T14:05:26.415Z"
    }
   },
   "outputs": [
    {
     "data": {
      "text/plain": [
       "\n",
       "Call:\n",
       "C5.0.default(x = train_data[, vars], y = train_data$Status, trials = 3)\n",
       "\n",
       "\n",
       "C5.0 [Release 2.07 GPL Edition]  \tFri Apr  5 22:05:26 2019\n",
       "-------------------------------\n",
       "\n",
       "Class specified by attribute `outcome'\n",
       "\n",
       "Read 3000 cases (3 attributes) from undefined.data\n",
       "\n",
       "-----  Trial 0:  -----\n",
       "\n",
       "Decision tree:\n",
       "\n",
       "Seniority > 2: good (1971/396)\n",
       "Seniority <= 2:\n",
       ":...Home in {ignore,other,priv,rent}: bad (411.4/171)\n",
       "    Home in {owner,parents}: good (617.6/226.6)\n",
       "\n",
       "-----  Trial 1:  -----\n",
       "\n",
       "Decision tree:\n",
       "\n",
       "Seniority > 5: good (1331.5/339.5)\n",
       "Seniority <= 5:\n",
       ":...Seniority <= 0: bad (392.4/173)\n",
       "    Seniority > 0: good (1276.1/542.7)\n",
       "\n",
       "-----  Trial 2:  -----\n",
       "\n",
       "Decision tree:\n",
       " good (2426/564.2)\n",
       "\n",
       "\n",
       "Evaluation on training data (3000 cases):\n",
       "\n",
       "Trial\t    Decision Tree   \n",
       "-----\t  ----------------  \n",
       "\t  Size      Errors  \n",
       "\n",
       "   0\t     3  794(26.5%)\n",
       "   1\t     3  843(28.1%)\n",
       "   2\t     1  863(28.8%)\n",
       "boost\t        803(26.8%)   <<\n",
       "\n",
       "\n",
       "\t   (a)   (b)    <-classified as\n",
       "\t  ----  ----\n",
       "\t   103   760    (a): class bad\n",
       "\t    43  2094    (b): class good\n",
       "\n",
       "\n",
       "\tAttribute usage:\n",
       "\n",
       "\t100.00%\tSeniority\n",
       "\t 34.27%\tHome\n",
       "\n",
       "\n",
       "Time: 0.0 secs\n"
      ]
     },
     "metadata": {},
     "output_type": "display_data"
    }
   ],
   "source": [
    "tree_boost <- C5.0(x = train_data[, vars], y = train_data$Status, trials = 3)\n",
    "summary(tree_boost)"
   ]
  },
  {
   "cell_type": "markdown",
   "metadata": {},
   "source": [
    "#### Rule-Based Models\n",
    "\n",
    "There is no plot method for rule-based models."
   ]
  },
  {
   "cell_type": "code",
   "execution_count": 21,
   "metadata": {
    "ExecuteTime": {
     "end_time": "2019-04-05T14:06:15.373309Z",
     "start_time": "2019-04-05T14:06:15.245Z"
    }
   },
   "outputs": [
    {
     "data": {
      "text/plain": [
       "\n",
       "Call:\n",
       "C5.0.default(x = train_data[, vars], y = train_data$Status, rules = TRUE)\n",
       "\n",
       "Rule-Based Model\n",
       "Number of samples: 3000 \n",
       "Number of predictors: 2 \n",
       "\n",
       "Number of Rules: 3 \n",
       "\n",
       "Non-standard options: attempt to group attributes\n"
      ]
     },
     "metadata": {},
     "output_type": "display_data"
    }
   ],
   "source": [
    "rule_mod <- C5.0(x = train_data[, vars], y = train_data$Status, rules = TRUE)\n",
    "rule_mod"
   ]
  },
  {
   "cell_type": "code",
   "execution_count": 22,
   "metadata": {
    "ExecuteTime": {
     "end_time": "2019-04-05T14:06:30.433132Z",
     "start_time": "2019-04-05T14:06:30.404Z"
    }
   },
   "outputs": [
    {
     "data": {
      "text/plain": [
       "\n",
       "Call:\n",
       "C5.0.default(x = train_data[, vars], y = train_data$Status, rules = TRUE)\n",
       "\n",
       "\n",
       "C5.0 [Release 2.07 GPL Edition]  \tFri Apr  5 22:06:15 2019\n",
       "-------------------------------\n",
       "\n",
       "Class specified by attribute `outcome'\n",
       "\n",
       "Read 3000 cases (3 attributes) from undefined.data\n",
       "\n",
       "Rules:\n",
       "\n",
       "Rule 1: (411/171, lift 2.0)\n",
       "\tHome in {ignore, other, priv, rent}\n",
       "\tSeniority <= 2\n",
       "\t->  class bad  [0.584]\n",
       "\n",
       "Rule 2: (1971/396, lift 1.1)\n",
       "\tSeniority > 2\n",
       "\t->  class good  [0.799]\n",
       "\n",
       "Rule 3: (1940/423, lift 1.1)\n",
       "\tHome in {owner, parents}\n",
       "\t->  class good  [0.782]\n",
       "\n",
       "Default class: good\n",
       "\n",
       "\n",
       "Evaluation on training data (3000 cases):\n",
       "\n",
       "\t        Rules     \n",
       "\t  ----------------\n",
       "\t    No      Errors\n",
       "\n",
       "\t     3  794(26.5%)   <<\n",
       "\n",
       "\n",
       "\t   (a)   (b)    <-classified as\n",
       "\t  ----  ----\n",
       "\t   240   623    (a): class bad\n",
       "\t   171  1966    (b): class good\n",
       "\n",
       "\n",
       "\tAttribute usage:\n",
       "\n",
       "\t 79.40%\tSeniority\n",
       "\t 78.37%\tHome\n",
       "\n",
       "\n",
       "Time: 0.0 secs\n"
      ]
     },
     "metadata": {},
     "output_type": "display_data"
    }
   ],
   "source": [
    "summary(rule_mod)"
   ]
  },
  {
   "cell_type": "markdown",
   "metadata": {},
   "source": [
    "#### Predictions"
   ]
  },
  {
   "cell_type": "code",
   "execution_count": 23,
   "metadata": {
    "ExecuteTime": {
     "end_time": "2019-04-05T14:08:06.924746Z",
     "start_time": "2019-04-05T14:08:06.811Z"
    }
   },
   "outputs": [
    {
     "data": {
      "text/html": [
       "<ol class=list-inline>\n",
       "\t<li>good</li>\n",
       "\t<li>bad</li>\n",
       "\t<li>good</li>\n",
       "</ol>\n",
       "\n",
       "<details>\n",
       "\t<summary style=display:list-item;cursor:pointer>\n",
       "\t\t<strong>Levels</strong>:\n",
       "\t</summary>\n",
       "\t<ol class=list-inline>\n",
       "\t\t<li>'bad'</li>\n",
       "\t\t<li>'good'</li>\n",
       "\t</ol>\n",
       "</details>"
      ],
      "text/latex": [
       "\\begin{enumerate*}\n",
       "\\item good\n",
       "\\item bad\n",
       "\\item good\n",
       "\\end{enumerate*}\n",
       "\n",
       "\\emph{Levels}: \\begin{enumerate*}\n",
       "\\item 'bad'\n",
       "\\item 'good'\n",
       "\\end{enumerate*}\n"
      ],
      "text/markdown": [
       "1. good\n",
       "2. bad\n",
       "3. good\n",
       "\n",
       "\n",
       "\n",
       "**Levels**: 1. 'bad'\n",
       "2. 'good'\n",
       "\n",
       "\n"
      ],
      "text/plain": [
       "[1] good bad  good\n",
       "Levels: bad good"
      ]
     },
     "metadata": {},
     "output_type": "display_data"
    }
   ],
   "source": [
    "predict(rule_mod, newdata = test_data[1:3, vars])"
   ]
  },
  {
   "cell_type": "code",
   "execution_count": 24,
   "metadata": {
    "ExecuteTime": {
     "end_time": "2019-04-05T14:08:14.689107Z",
     "start_time": "2019-04-05T14:08:14.529Z"
    }
   },
   "outputs": [
    {
     "data": {
      "text/html": [
       "<table>\n",
       "<thead><tr><th></th><th scope=col>bad</th><th scope=col>good</th></tr></thead>\n",
       "<tbody>\n",
       "\t<tr><th scope=row>3</th><td>0.0000000</td><td>1.0000000</td></tr>\n",
       "\t<tr><th scope=row>4</th><td>0.5981465</td><td>0.4018535</td></tr>\n",
       "\t<tr><th scope=row>7</th><td>0.0000000</td><td>1.0000000</td></tr>\n",
       "</tbody>\n",
       "</table>\n"
      ],
      "text/latex": [
       "\\begin{tabular}{r|ll}\n",
       "  & bad & good\\\\\n",
       "\\hline\n",
       "\t3 & 0.0000000 & 1.0000000\\\\\n",
       "\t4 & 0.5981465 & 0.4018535\\\\\n",
       "\t7 & 0.0000000 & 1.0000000\\\\\n",
       "\\end{tabular}\n"
      ],
      "text/markdown": [
       "\n",
       "| <!--/--> | bad | good |\n",
       "|---|---|---|\n",
       "| 3 | 0.0000000 | 1.0000000 |\n",
       "| 4 | 0.5981465 | 0.4018535 |\n",
       "| 7 | 0.0000000 | 1.0000000 |\n",
       "\n"
      ],
      "text/plain": [
       "  bad       good     \n",
       "3 0.0000000 1.0000000\n",
       "4 0.5981465 0.4018535\n",
       "7 0.0000000 1.0000000"
      ]
     },
     "metadata": {},
     "output_type": "display_data"
    }
   ],
   "source": [
    "predict(tree_boost, newdata = test_data[1:3, vars], type = \"prob\")"
   ]
  },
  {
   "cell_type": "markdown",
   "metadata": {},
   "source": [
    "#### Cost-Sensitive Models\n",
    "对不同的错误类型（如F->T，T->F）,定义不同的惩罚，组成Cost Matrix"
   ]
  },
  {
   "cell_type": "code",
   "execution_count": 25,
   "metadata": {
    "ExecuteTime": {
     "end_time": "2019-04-05T14:09:52.788198Z",
     "start_time": "2019-04-05T14:09:52.742Z"
    }
   },
   "outputs": [
    {
     "data": {
      "text/html": [
       "<table>\n",
       "<thead><tr><th></th><th scope=col>bad</th><th scope=col>good</th></tr></thead>\n",
       "<tbody>\n",
       "\t<tr><th scope=row>bad</th><td>0</td><td>1</td></tr>\n",
       "\t<tr><th scope=row>good</th><td>2</td><td>0</td></tr>\n",
       "</tbody>\n",
       "</table>\n"
      ],
      "text/latex": [
       "\\begin{tabular}{r|ll}\n",
       "  & bad & good\\\\\n",
       "\\hline\n",
       "\tbad & 0 & 1\\\\\n",
       "\tgood & 2 & 0\\\\\n",
       "\\end{tabular}\n"
      ],
      "text/markdown": [
       "\n",
       "| <!--/--> | bad | good |\n",
       "|---|---|---|\n",
       "| bad | 0 | 1 |\n",
       "| good | 2 | 0 |\n",
       "\n"
      ],
      "text/plain": [
       "     bad good\n",
       "bad  0   1   \n",
       "good 2   0   "
      ]
     },
     "metadata": {},
     "output_type": "display_data"
    }
   ],
   "source": [
    "cost_mat <- matrix(c(0, 2, 1, 0), nrow = 2)\n",
    "rownames(cost_mat) <- colnames(cost_mat) <- c(\"bad\", \"good\")\n",
    "cost_mat"
   ]
  },
  {
   "cell_type": "code",
   "execution_count": 26,
   "metadata": {
    "ExecuteTime": {
     "end_time": "2019-04-05T14:10:07.744878Z",
     "start_time": "2019-04-05T14:10:07.664Z"
    }
   },
   "outputs": [
    {
     "data": {
      "text/plain": [
       "\n",
       "Call:\n",
       "C5.0.default(x = train_data[, vars], y = train_data$Status, costs = cost_mat)\n",
       "\n",
       "\n",
       "C5.0 [Release 2.07 GPL Edition]  \tFri Apr  5 22:10:07 2019\n",
       "-------------------------------\n",
       "\n",
       "Class specified by attribute `outcome'\n",
       "\n",
       "Read 3000 cases (3 attributes) from undefined.data\n",
       "Read misclassification costs from undefined.costs\n",
       "\n",
       "Decision tree:\n",
       "\n",
       "Seniority <= 2: bad (1029/562)\n",
       "Seniority > 2:\n",
       ":...Home in {ignore,owner,parents}: good (1331.7/199.4)\n",
       "    Home in {other,priv,rent}:\n",
       "    :...Seniority > 15: good (130/21)\n",
       "        Seniority <= 15:\n",
       "        :...Seniority <= 5: bad (199.6/116.3)\n",
       "            Seniority > 5: good (309.6/92.3)\n",
       "\n",
       "\n",
       "Evaluation on training data (3000 cases):\n",
       "\n",
       "\t       Decision Tree       \n",
       "\t  -----------------------  \n",
       "\t  Size      Errors   Cost  \n",
       "\n",
       "\t     5  991(33.0%)   0.43   <<\n",
       "\n",
       "\n",
       "\t   (a)   (b)    <-classified as\n",
       "\t  ----  ----\n",
       "\t   550   313    (a): class bad\n",
       "\t   678  1459    (b): class good\n",
       "\n",
       "\n",
       "\tAttribute usage:\n",
       "\n",
       "\t100.00%\tSeniority\n",
       "\t 65.57%\tHome\n",
       "\n",
       "\n",
       "Time: 0.0 secs\n"
      ]
     },
     "metadata": {},
     "output_type": "display_data"
    }
   ],
   "source": [
    "cost_mod <- C5.0(x = train_data[, vars], y = train_data$Status, \n",
    "                 costs = cost_mat)\n",
    "summary(cost_mod)"
   ]
  },
  {
   "cell_type": "code",
   "execution_count": 27,
   "metadata": {
    "ExecuteTime": {
     "end_time": "2019-04-05T14:10:34.370451Z",
     "start_time": "2019-04-05T14:10:34.311Z"
    }
   },
   "outputs": [
    {
     "data": {
      "text/plain": [
       "\n",
       " bad good \n",
       " 569  885 "
      ]
     },
     "metadata": {},
     "output_type": "display_data"
    }
   ],
   "source": [
    "# more samples predicted as \"bad\"\n",
    "table(predict(cost_mod, test_data[, vars]))"
   ]
  },
  {
   "cell_type": "code",
   "execution_count": 28,
   "metadata": {
    "ExecuteTime": {
     "end_time": "2019-04-05T14:10:39.270672Z",
     "start_time": "2019-04-05T14:10:39.217Z"
    }
   },
   "outputs": [
    {
     "data": {
      "text/plain": [
       "\n",
       " bad good \n",
       " 190 1264 "
      ]
     },
     "metadata": {},
     "output_type": "display_data"
    }
   ],
   "source": [
    "# that previously\n",
    "table(predict(tree_mod, test_data[, vars]))"
   ]
  },
  {
   "cell_type": "code",
   "execution_count": 29,
   "metadata": {
    "ExecuteTime": {
     "end_time": "2019-04-05T14:10:51.667869Z",
     "start_time": "2019-04-05T14:10:51.347Z"
    }
   },
   "outputs": [
    {
     "data": {
      "image/png": "[encoded data removed]",
      "text/plain": [
       "plot without title"
      ]
     },
     "metadata": {},
     "output_type": "display_data"
    }
   ],
   "source": [
    "plot(cost_mod)"
   ]
  },
  {
   "cell_type": "code",
   "execution_count": null,
   "metadata": {},
   "outputs": [],
   "source": []
  }
 ],
 "metadata": {
  "kernelspec": {
   "display_name": "R 3.4",
   "language": "R",
   "name": "ir34"
  },
  "language_info": {
   "codemirror_mode": "r",
   "file_extension": ".r",
   "mimetype": "text/x-r-source",
   "name": "R",
   "pygments_lexer": "r",
   "version": "3.6.0"
  },
  "toc": {
   "nav_menu": {},
   "number_sections": false,
   "sideBar": true,
   "skip_h1_title": false,
   "title_cell": "Table of Contents",
   "title_sidebar": "Contents",
   "toc_cell": false,
   "toc_position": {
    "height": "calc(100% - 180px)",
    "left": "10px",
    "top": "150px",
    "width": "273.2px"
   },
   "toc_section_display": true,
   "toc_window_display": true
  }
 },
 "nbformat": 4,
 "nbformat_minor": 2
}
