{
 "cells": [
  {
   "cell_type": "markdown",
   "metadata": {
    "ExecuteTime": {
     "end_time": "2019-04-05T11:01:59.920661Z",
     "start_time": "2019-04-05T11:01:59.912719Z"
    }
   },
   "source": [
    "### Python ID3实现\n",
    "\n",
    "使用第三方库[decision-tree-id3](https://pypi.org/project/decision-tree-id3/).不过这里也同时实现了剪枝(`pruning`)和信息增益比(`Information gain ratio`)...不过这两个参数都是optional的，所以设置为`False`也就成了一般的ID3了。\n",
    ">到这里感觉没有必要纠结各种不同算法的实现了，实际使用的时候直接用比较好算法就是了...比如剪枝的CART和C4.5等。"
   ]
  },
  {
   "cell_type": "code",
   "execution_count": 27,
   "metadata": {
    "ExecuteTime": {
     "end_time": "2019-04-05T11:17:53.975464Z",
     "start_time": "2019-04-05T11:17:53.971197Z"
    }
   },
   "outputs": [],
   "source": [
    "from sklearn.datasets import load_iris\n",
    "from id3 import Id3Estimator\n",
    "from id3 import export_graphviz, export_text"
   ]
  },
  {
   "cell_type": "code",
   "execution_count": 28,
   "metadata": {
    "ExecuteTime": {
     "end_time": "2019-04-05T11:19:07.041432Z",
     "start_time": "2019-04-05T11:19:07.013931Z"
    }
   },
   "outputs": [
    {
     "data": {
      "text/plain": [
       "Id3Estimator(gain_ratio=False, is_repeating=False, max_depth=None,\n",
       "       min_entropy_decrease=0.0, min_samples_split=2, prune=False)"
      ]
     },
     "execution_count": 28,
     "metadata": {},
     "output_type": "execute_result"
    }
   ],
   "source": [
    "iris = load_iris()\n",
    "estimator = Id3Estimator()\n",
    "estimator.fit(iris.data, iris.target)"
   ]
  },
  {
   "cell_type": "code",
   "execution_count": 29,
   "metadata": {
    "ExecuteTime": {
     "end_time": "2019-04-05T11:19:11.502570Z",
     "start_time": "2019-04-05T11:19:11.494442Z"
    }
   },
   "outputs": [
    {
     "name": "stderr",
     "output_type": "stream",
     "text": [
      "/home/shensir/anaconda3/lib/python3.6/site-packages/sklearn/utils/validation.py:395: DeprecationWarning: Passing 1d arrays as data is deprecated in 0.17 and will raise ValueError in 0.19. Reshape your data either using X.reshape(-1, 1) if your data has a single feature or X.reshape(1, -1) if it contains a single sample.\n",
      "  DeprecationWarning)\n"
     ]
    },
    {
     "data": {
      "text/plain": [
       "array([0])"
      ]
     },
     "execution_count": 29,
     "metadata": {},
     "output_type": "execute_result"
    }
   ],
   "source": [
    "# 预测\n",
    "estimator.predict(iris.data[0])"
   ]
  },
  {
   "cell_type": "code",
   "execution_count": 31,
   "metadata": {
    "ExecuteTime": {
     "end_time": "2019-04-05T11:20:04.620682Z",
     "start_time": "2019-04-05T11:20:04.606310Z"
    }
   },
   "outputs": [
    {
     "name": "stdout",
     "output_type": "stream",
     "text": [
      "[[ 5.1  3.5  1.4  0.2]]\n"
     ]
    },
    {
     "data": {
      "text/plain": [
       "array([0])"
      ]
     },
     "execution_count": 31,
     "metadata": {},
     "output_type": "execute_result"
    }
   ],
   "source": [
    "print(iris.data[0].reshape(1, -1))\n",
    "estimator.predict(iris.data[0].reshape(1, -1))"
   ]
  },
  {
   "cell_type": "code",
   "execution_count": 32,
   "metadata": {
    "ExecuteTime": {
     "end_time": "2019-04-05T11:20:05.538314Z",
     "start_time": "2019-04-05T11:20:05.532362Z"
    }
   },
   "outputs": [
    {
     "name": "stdout",
     "output_type": "stream",
     "text": [
      "\n",
      "petal length (cm) <=2.45: 0 (50) \n",
      "petal length (cm) >2.45\n",
      "|   petal width (cm) <=1.75\n",
      "|   |   sepal length (cm) <=7.10\n",
      "|   |   |   sepal width (cm) <=2.85: 1 (27/4) \n",
      "|   |   |   sepal width (cm) >2.85: 1 (22) \n",
      "|   |   sepal length (cm) >7.10: 2 (1) \n",
      "|   petal width (cm) >1.75\n",
      "|   |   sepal length (cm) <=5.95\n",
      "|   |   |   sepal width (cm) <=3.10: 2 (6) \n",
      "|   |   |   sepal width (cm) >3.10: 1 (1) \n",
      "|   |   sepal length (cm) >5.95: 2 (39) \n",
      "\n"
     ]
    }
   ],
   "source": [
    "print(export_text(estimator.tree_, iris.feature_names))"
   ]
  },
  {
   "cell_type": "code",
   "execution_count": 33,
   "metadata": {
    "ExecuteTime": {
     "end_time": "2019-04-05T11:21:04.321091Z",
     "start_time": "2019-04-05T11:21:04.310304Z"
    }
   },
   "outputs": [
    {
     "data": {
      "text/plain": [
       "<_io.TextIOWrapper name='tree.dot' mode='w' encoding='utf8'>"
      ]
     },
     "execution_count": 33,
     "metadata": {},
     "output_type": "execute_result"
    }
   ],
   "source": [
    "# 同样也可以转化为图片形式\n",
    "export_graphviz(estimator.tree_, 'tree.dot', bunch.feature_names)\n",
    "# 之后终端运行dot -Tpdf tree.dot -o tree.pdf"
   ]
  }
 ],
 "metadata": {
  "celltoolbar": "Raw Cell Format",
  "kernelspec": {
   "display_name": "Python 3",
   "language": "python",
   "name": "python3"
  },
  "language_info": {
   "codemirror_mode": {
    "name": "ipython",
    "version": 3
   },
   "file_extension": ".py",
   "mimetype": "text/x-python",
   "name": "python",
   "nbconvert_exporter": "python",
   "pygments_lexer": "ipython3",
   "version": "3.6.6"
  },
  "toc": {
   "nav_menu": {},
   "number_sections": false,
   "sideBar": true,
   "skip_h1_title": false,
   "title_cell": "Table of Contents",
   "title_sidebar": "Contents",
   "toc_cell": false,
   "toc_position": {},
   "toc_section_display": true,
   "toc_window_display": false
  }
 },
 "nbformat": 4,
 "nbformat_minor": 2
}
