{
 "cells": [
  {
   "cell_type": "markdown",
   "metadata": {},
   "source": [
    "### R CART实现\n",
    "\n",
    "CART在R中的实现为RPART库 (Recursive Partitioning And Regression Trees)，下面简单介绍其调用方式，主要参考[CART Model: Decision Tree Essentials](http://www.sthda.com/english/articles/35-statistical-machine-learning-essentials/141-cart-model-decision-tree-essentials/)"
   ]
  },
  {
   "cell_type": "markdown",
   "metadata": {},
   "source": [
    "#### Classification Trees Demo"
   ]
  },
  {
   "cell_type": "code",
   "execution_count": 3,
   "metadata": {
    "ExecuteTime": {
     "end_time": "2019-04-05T11:37:24.480505Z",
     "start_time": "2019-04-05T11:37:24.377Z"
    }
   },
   "outputs": [
    {
     "data": {
      "image/png": "[encoded data removed]",
      "text/plain": [
       "plot without title"
      ]
     },
     "metadata": {},
     "output_type": "display_data"
    }
   ],
   "source": [
    "library(rpart)\n",
    "options(repr.plot.width=5, repr.plot.height=5)  # plot size\n",
    "model <- rpart(Species ~., data = iris)\n",
    "par(xpd = NA) # otherwise on some devices the text is clipped\n",
    "plot(model)\n",
    "text(model, digits = 3)"
   ]
  },
  {
   "cell_type": "code",
   "execution_count": 8,
   "metadata": {
    "ExecuteTime": {
     "end_time": "2019-04-05T11:39:06.375280Z",
     "start_time": "2019-04-05T11:39:06.337Z"
    }
   },
   "outputs": [
    {
     "name": "stdout",
     "output_type": "stream",
     "text": [
      "n= 150 \n",
      "\n",
      "node), split, n, loss, yval, (yprob)\n",
      "      * denotes terminal node\n",
      "\n",
      "1) root 150 100 setosa (0.3333 0.3333 0.3333)  \n",
      "  2) Petal.Length< 2.45 50   0 setosa (1.0000 0.0000 0.0000) *\n",
      "  3) Petal.Length>=2.45 100  50 versicolor (0.0000 0.5000 0.5000)  \n",
      "    6) Petal.Width< 1.75 54   5 versicolor (0.0000 0.9074 0.0926) *\n",
      "    7) Petal.Width>=1.75 46   1 virginica (0.0000 0.0217 0.9783) *\n"
     ]
    }
   ],
   "source": [
    "print(model, digits=3)"
   ]
  },
  {
   "cell_type": "code",
   "execution_count": 9,
   "metadata": {
    "ExecuteTime": {
     "end_time": "2019-04-05T11:39:58.347703Z",
     "start_time": "2019-04-05T11:39:58.252Z"
    }
   },
   "outputs": [
    {
     "data": {
      "text/html": [
       "<strong>1:</strong> virginica\n",
       "<details>\n",
       "\t<summary style=display:list-item;cursor:pointer>\n",
       "\t\t<strong>Levels</strong>:\n",
       "\t</summary>\n",
       "\t<ol class=list-inline>\n",
       "\t\t<li>'setosa'</li>\n",
       "\t\t<li>'versicolor'</li>\n",
       "\t\t<li>'virginica'</li>\n",
       "\t</ol>\n",
       "</details>"
      ],
      "text/latex": [
       "\\textbf{1:} virginica\n",
       "\\emph{Levels}: \\begin{enumerate*}\n",
       "\\item 'setosa'\n",
       "\\item 'versicolor'\n",
       "\\item 'virginica'\n",
       "\\end{enumerate*}\n"
      ],
      "text/markdown": [
       "**1:** virginica\n",
       "**Levels**: 1. 'setosa'\n",
       "2. 'versicolor'\n",
       "3. 'virginica'\n",
       "\n",
       "\n"
      ],
      "text/plain": [
       "        1 \n",
       "virginica \n",
       "Levels: setosa versicolor virginica"
      ]
     },
     "metadata": {},
     "output_type": "display_data"
    }
   ],
   "source": [
    "# 预测\n",
    "newdata <- data.frame(\n",
    "  Sepal.Length = 6.5, Sepal.Width = 3.0,\n",
    "  Petal.Length = 5.2, Petal.Width = 2.0\n",
    ")\n",
    "model %>% predict(newdata, \"class\") "
   ]
  },
  {
   "cell_type": "markdown",
   "metadata": {},
   "source": [
    "#### Classfication Trees Pruning"
   ]
  },
  {
   "cell_type": "code",
   "execution_count": 12,
   "metadata": {
    "ExecuteTime": {
     "end_time": "2019-04-05T11:46:38.161147Z",
     "start_time": "2019-04-05T11:46:37.989Z"
    }
   },
   "outputs": [
    {
     "data": {
      "text/html": [
       "<table>\n",
       "<thead><tr><th scope=col>pregnant</th><th scope=col>glucose</th><th scope=col>pressure</th><th scope=col>triceps</th><th scope=col>insulin</th><th scope=col>mass</th><th scope=col>pedigree</th><th scope=col>age</th><th scope=col>diabetes</th></tr></thead>\n",
       "<tbody>\n",
       "\t<tr><td>0    </td><td> 78  </td><td>88   </td><td>29   </td><td> 40  </td><td>36.9 </td><td>0.434</td><td>21   </td><td>neg  </td></tr>\n",
       "\t<tr><td>1    </td><td>111  </td><td>62   </td><td>13   </td><td>182  </td><td>24.0 </td><td>0.138</td><td>23   </td><td>neg  </td></tr>\n",
       "\t<tr><td>7    </td><td> 97  </td><td>76   </td><td>32   </td><td> 91  </td><td>40.9 </td><td>0.871</td><td>32   </td><td>pos  </td></tr>\n",
       "</tbody>\n",
       "</table>\n"
      ],
      "text/latex": [
       "\\begin{tabular}{r|lllllllll}\n",
       " pregnant & glucose & pressure & triceps & insulin & mass & pedigree & age & diabetes\\\\\n",
       "\\hline\n",
       "\t 0     &  78   & 88    & 29    &  40   & 36.9  & 0.434 & 21    & neg  \\\\\n",
       "\t 1     & 111   & 62    & 13    & 182   & 24.0  & 0.138 & 23    & neg  \\\\\n",
       "\t 7     &  97   & 76    & 32    &  91   & 40.9  & 0.871 & 32    & pos  \\\\\n",
       "\\end{tabular}\n"
      ],
      "text/markdown": [
       "\n",
       "| pregnant | glucose | pressure | triceps | insulin | mass | pedigree | age | diabetes |\n",
       "|---|---|---|---|---|---|---|---|---|\n",
       "| 0     |  78   | 88    | 29    |  40   | 36.9  | 0.434 | 21    | neg   |\n",
       "| 1     | 111   | 62    | 13    | 182   | 24.0  | 0.138 | 23    | neg   |\n",
       "| 7     |  97   | 76    | 32    |  91   | 40.9  | 0.871 | 32    | pos   |\n",
       "\n"
      ],
      "text/plain": [
       "  pregnant glucose pressure triceps insulin mass pedigree age diabetes\n",
       "1 0         78     88       29       40     36.9 0.434    21  neg     \n",
       "2 1        111     62       13      182     24.0 0.138    23  neg     \n",
       "3 7         97     76       32       91     40.9 0.871    32  pos     "
      ]
     },
     "metadata": {},
     "output_type": "display_data"
    }
   ],
   "source": [
    "# Load the data and remove NAs\n",
    "data(\"PimaIndiansDiabetes2\", package = \"mlbench\")\n",
    "PimaIndiansDiabetes2 <- na.omit(PimaIndiansDiabetes2)\n",
    "# Inspect the data\n",
    "sample_n(PimaIndiansDiabetes2, 3)\n",
    "# Split the data into training and test set\n",
    "set.seed(123)\n",
    "training.samples <- PimaIndiansDiabetes2$diabetes %>% \n",
    "  createDataPartition(p = 0.8, list = FALSE)\n",
    "train.data  <- PimaIndiansDiabetes2[training.samples, ]\n",
    "test.data <- PimaIndiansDiabetes2[-training.samples, ]"
   ]
  },
  {
   "cell_type": "markdown",
   "metadata": {},
   "source": [
    "注：关于管道操作符`%>%`，可以参考[stackoverflow](https://stackoverflow.com/questions/24536154/what-does-mean-in-r)。简单说就是为了应付函数嵌套的问题，如`iris %>% head()`其实就等同于`head(iris)`。所以，同样地，这里`PimaIndiansDiabetes2$diabetes %>% createDataPartition(p = 0.8, list = FALSE)`就等同于`createDataPartition(PimaIndiansDiabetes2$diabetes， p = 0.8, list = FALSE)`"
   ]
  },
  {
   "cell_type": "code",
   "execution_count": 13,
   "metadata": {
    "ExecuteTime": {
     "end_time": "2019-04-05T13:09:12.256668Z",
     "start_time": "2019-04-05T13:09:12.142Z"
    }
   },
   "outputs": [
    {
     "data": {
      "image/png": "[encoded data removed]",
      "text/plain": [
       "plot without title"
      ]
     },
     "metadata": {},
     "output_type": "display_data"
    }
   ],
   "source": [
    "# Build the model\n",
    "set.seed(123)\n",
    "model1 <- rpart(diabetes ~., data = train.data, method = \"class\")\n",
    "# Plot the trees\n",
    "par(xpd = NA) # Avoid clipping the text in some device\n",
    "plot(model1)\n",
    "text(model1, digits = 3)"
   ]
  },
  {
   "cell_type": "code",
   "execution_count": 14,
   "metadata": {
    "ExecuteTime": {
     "end_time": "2019-04-05T13:09:30.016058Z",
     "start_time": "2019-04-05T13:09:29.968Z"
    }
   },
   "outputs": [
    {
     "data": {
      "text/html": [
       "<dl class=dl-horizontal>\n",
       "\t<dt>21</dt>\n",
       "\t\t<dd>neg</dd>\n",
       "\t<dt>25</dt>\n",
       "\t\t<dd>pos</dd>\n",
       "\t<dt>28</dt>\n",
       "\t\t<dd>neg</dd>\n",
       "\t<dt>29</dt>\n",
       "\t\t<dd>pos</dd>\n",
       "\t<dt>32</dt>\n",
       "\t\t<dd>pos</dd>\n",
       "\t<dt>36</dt>\n",
       "\t\t<dd>neg</dd>\n",
       "</dl>\n",
       "\n",
       "<details>\n",
       "\t<summary style=display:list-item;cursor:pointer>\n",
       "\t\t<strong>Levels</strong>:\n",
       "\t</summary>\n",
       "\t<ol class=list-inline>\n",
       "\t\t<li>'neg'</li>\n",
       "\t\t<li>'pos'</li>\n",
       "\t</ol>\n",
       "</details>"
      ],
      "text/latex": [
       "\\begin{description*}\n",
       "\\item[21] neg\n",
       "\\item[25] pos\n",
       "\\item[28] neg\n",
       "\\item[29] pos\n",
       "\\item[32] pos\n",
       "\\item[36] neg\n",
       "\\end{description*}\n",
       "\n",
       "\\emph{Levels}: \\begin{enumerate*}\n",
       "\\item 'neg'\n",
       "\\item 'pos'\n",
       "\\end{enumerate*}\n"
      ],
      "text/markdown": [
       "21\n",
       ":   neg25\n",
       ":   pos28\n",
       ":   neg29\n",
       ":   pos32\n",
       ":   pos36\n",
       ":   neg\n",
       "\n",
       "\n",
       "**Levels**: 1. 'neg'\n",
       "2. 'pos'\n",
       "\n",
       "\n"
      ],
      "text/plain": [
       " 21  25  28  29  32  36 \n",
       "neg pos neg pos pos neg \n",
       "Levels: neg pos"
      ]
     },
     "metadata": {},
     "output_type": "display_data"
    }
   ],
   "source": [
    "# Make predictions on the test data\n",
    "predicted.classes <- model1 %>% \n",
    "  predict(test.data, type = \"class\")\n",
    "head(predicted.classes)"
   ]
  },
  {
   "cell_type": "code",
   "execution_count": 15,
   "metadata": {
    "ExecuteTime": {
     "end_time": "2019-04-05T13:09:39.023242Z",
     "start_time": "2019-04-05T13:09:38.982Z"
    }
   },
   "outputs": [
    {
     "data": {
      "text/html": [
       "0.782051282051282"
      ],
      "text/latex": [
       "0.782051282051282"
      ],
      "text/markdown": [
       "0.782051282051282"
      ],
      "text/plain": [
       "[1] 0.7820513"
      ]
     },
     "metadata": {},
     "output_type": "display_data"
    }
   ],
   "source": [
    "# Compute model accuracy rate on test data\n",
    "mean(predicted.classes == test.data$diabetes)"
   ]
  },
  {
   "cell_type": "markdown",
   "metadata": {},
   "source": [
    "剪枝算法。\n",
    "\n",
    "Briefly, our goal here is to see if a smaller subtree can give us comparable results to the fully grown tree. If yes, we should go for the simpler tree because it reduces the likelihood of overfitting.\n",
    "\n",
    "One possible robust strategy of pruning the tree (or stopping the tree to grow) consists of avoiding splitting a partition if the split does not significantly improves the overall quality of the model.\n",
    "In rpart package, this is controlled by the complexity parameter (cp), which imposes a penalty to the tree for having two many splits. The default value is 0.01. The higher the cp, the smaller the tree.\n",
    "\n",
    "A too small value of cp leads to overfitting and a too large cp value will result to a too small tree. Both cases decrease the predictive performance of the model.\n",
    "An optimal cp value can be estimated by testing different cp values and using cross-validation approaches to determine the corresponding prediction accuracy of the model. The best cp is then defined as the one that maximize the cross-validation accuracy (Chapter @ref(cross-validation)).\n",
    "\n",
    "Pruning can be easily performed in the caret package workflow, which invokes the rpart method for automatically testing different possible values of cp, then choose the optimal cp that maximize the cross-validation (“cv”) accuracy, and fit the final best CART model that explains the best our data.\n",
    "\n",
    "You can use the following arguments in the function train() [from caret package]:\n",
    "\n",
    "    trControl, to set up 10-fold cross validation\n",
    "    tuneLength, to specify the number of possible cp values to evaluate. Default value is 3, here we’ll use 10.\n"
   ]
  },
  {
   "cell_type": "code",
   "execution_count": 19,
   "metadata": {
    "ExecuteTime": {
     "end_time": "2019-04-05T13:11:24.465666Z",
     "start_time": "2019-04-05T13:11:23.254Z"
    }
   },
   "outputs": [
    {
     "data": {
      "text/html": [
       "<table>\n",
       "<thead><tr><th></th><th scope=col>cp</th></tr></thead>\n",
       "<tbody>\n",
       "\t<tr><th scope=row>2</th><td>0.03205128</td></tr>\n",
       "</tbody>\n",
       "</table>\n"
      ],
      "text/latex": [
       "\\begin{tabular}{r|l}\n",
       "  & cp\\\\\n",
       "\\hline\n",
       "\t2 & 0.03205128\\\\\n",
       "\\end{tabular}\n"
      ],
      "text/markdown": [
       "\n",
       "| <!--/--> | cp |\n",
       "|---|---|\n",
       "| 2 | 0.03205128 |\n",
       "\n"
      ],
      "text/plain": [
       "  cp        \n",
       "2 0.03205128"
      ]
     },
     "metadata": {},
     "output_type": "display_data"
    },
    {
     "data": {
      "image/png": "[encoded data removed]",
      "text/plain": [
       "plot without title"
      ]
     },
     "metadata": {},
     "output_type": "display_data"
    }
   ],
   "source": [
    "# CV剪枝\n",
    "set.seed(123)\n",
    "model2 <- train(\n",
    "  diabetes ~., data = train.data, method = \"rpart\",\n",
    "  trControl = trainControl(\"cv\", number = 10),\n",
    "  tuneLength = 10\n",
    "  )\n",
    "# Plot model accuracy vs different values of\n",
    "# cp (complexity parameter)\n",
    "plot(model2)\n",
    "# Print the best tuning parameter cp that\n",
    "# maximizes the model accuracy\n",
    "model2$bestTune"
   ]
  },
  {
   "cell_type": "code",
   "execution_count": 20,
   "metadata": {
    "ExecuteTime": {
     "end_time": "2019-04-05T13:11:35.866403Z",
     "start_time": "2019-04-05T13:11:35.796Z"
    }
   },
   "outputs": [
    {
     "data": {
      "image/png": "[encoded data removed]",
      "text/plain": [
       "plot without title"
      ]
     },
     "metadata": {},
     "output_type": "display_data"
    }
   ],
   "source": [
    "# Plot the final tree model\n",
    "par(xpd = NA) # Avoid clipping the text in some device\n",
    "plot(model2$finalModel)\n",
    "text(model2$finalModel,  digits = 3)"
   ]
  },
  {
   "cell_type": "code",
   "execution_count": 21,
   "metadata": {
    "ExecuteTime": {
     "end_time": "2019-04-05T13:12:04.548490Z",
     "start_time": "2019-04-05T13:12:04.513Z"
    }
   },
   "outputs": [
    {
     "data": {
      "text/plain": [
       "n= 314 \n",
       "\n",
       "node), split, n, loss, yval, (yprob)\n",
       "      * denotes terminal node\n",
       "\n",
       " 1) root 314 104 neg (0.6687898 0.3312102)  \n",
       "   2) glucose< 127.5 188  26 neg (0.8617021 0.1382979) *\n",
       "   3) glucose>=127.5 126  48 pos (0.3809524 0.6190476)  \n",
       "     6) glucose< 165.5 88  44 neg (0.5000000 0.5000000)  \n",
       "      12) age< 23.5 16   1 neg (0.9375000 0.0625000) *\n",
       "      13) age>=23.5 72  29 pos (0.4027778 0.5972222) *\n",
       "     7) glucose>=165.5 38   4 pos (0.1052632 0.8947368) *"
      ]
     },
     "metadata": {},
     "output_type": "display_data"
    }
   ],
   "source": [
    "model2$finalModel"
   ]
  },
  {
   "cell_type": "code",
   "execution_count": 22,
   "metadata": {
    "ExecuteTime": {
     "end_time": "2019-04-05T13:12:54.278520Z",
     "start_time": "2019-04-05T13:12:54.241Z"
    }
   },
   "outputs": [
    {
     "data": {
      "text/html": [
       "0.794871794871795"
      ],
      "text/latex": [
       "0.794871794871795"
      ],
      "text/markdown": [
       "0.794871794871795"
      ],
      "text/plain": [
       "[1] 0.7948718"
      ]
     },
     "metadata": {},
     "output_type": "display_data"
    }
   ],
   "source": [
    "# Make predictions on the test data\n",
    "predicted.classes <- model2 %>% predict(test.data)\n",
    "# Compute model accuracy rate on test data\n",
    "mean(predicted.classes == test.data$diabetes)"
   ]
  },
  {
   "cell_type": "markdown",
   "metadata": {},
   "source": [
    ">From the output above, it can be seen that the best value for the complexity parameter (cp) is 0.032, allowing a simpler tree, easy to interpret, with an overall accuracy of 79%, which is comparable to the accuracy (78%) that we have obtained with the full tree. The prediction accuracy of the pruned tree is even better compared to the full tree.\n",
    "\n",
    ">Taken together, we should go for this simpler model.\n"
   ]
  },
  {
   "cell_type": "markdown",
   "metadata": {},
   "source": [
    "#### Regression trees\n",
    "\n",
    "这里使用RMSE是与平方误差是一致的，即得到最小二乘回归树"
   ]
  },
  {
   "cell_type": "code",
   "execution_count": 23,
   "metadata": {
    "ExecuteTime": {
     "end_time": "2019-04-05T13:13:39.783103Z",
     "start_time": "2019-04-05T13:13:39.686Z"
    }
   },
   "outputs": [
    {
     "data": {
      "text/html": [
       "<table>\n",
       "<thead><tr><th scope=col>crim</th><th scope=col>zn</th><th scope=col>indus</th><th scope=col>chas</th><th scope=col>nox</th><th scope=col>rm</th><th scope=col>age</th><th scope=col>dis</th><th scope=col>rad</th><th scope=col>tax</th><th scope=col>ptratio</th><th scope=col>black</th><th scope=col>lstat</th><th scope=col>medv</th></tr></thead>\n",
       "<tbody>\n",
       "\t<tr><td>0.22969</td><td>0      </td><td>10.59  </td><td>0      </td><td>0.489  </td><td>6.326  </td><td> 52.5  </td><td>4.3549 </td><td> 4     </td><td>277    </td><td>18.6   </td><td>394.87 </td><td>10.97  </td><td>24.4   </td></tr>\n",
       "\t<tr><td>4.89822</td><td>0      </td><td>18.10  </td><td>0      </td><td>0.631  </td><td>4.970  </td><td>100.0  </td><td>1.3325 </td><td>24     </td><td>666    </td><td>20.2   </td><td>375.52 </td><td> 3.26  </td><td>50.0   </td></tr>\n",
       "\t<tr><td>0.13960</td><td>0      </td><td> 8.56  </td><td>0      </td><td>0.520  </td><td>6.167  </td><td> 90.0  </td><td>2.4210 </td><td> 5     </td><td>384    </td><td>20.9   </td><td>392.69 </td><td>12.33  </td><td>20.1   </td></tr>\n",
       "</tbody>\n",
       "</table>\n"
      ],
      "text/latex": [
       "\\begin{tabular}{r|llllllllllllll}\n",
       " crim & zn & indus & chas & nox & rm & age & dis & rad & tax & ptratio & black & lstat & medv\\\\\n",
       "\\hline\n",
       "\t 0.22969 & 0       & 10.59   & 0       & 0.489   & 6.326   &  52.5   & 4.3549  &  4      & 277     & 18.6    & 394.87  & 10.97   & 24.4   \\\\\n",
       "\t 4.89822 & 0       & 18.10   & 0       & 0.631   & 4.970   & 100.0   & 1.3325  & 24      & 666     & 20.2    & 375.52  &  3.26   & 50.0   \\\\\n",
       "\t 0.13960 & 0       &  8.56   & 0       & 0.520   & 6.167   &  90.0   & 2.4210  &  5      & 384     & 20.9    & 392.69  & 12.33   & 20.1   \\\\\n",
       "\\end{tabular}\n"
      ],
      "text/markdown": [
       "\n",
       "| crim | zn | indus | chas | nox | rm | age | dis | rad | tax | ptratio | black | lstat | medv |\n",
       "|---|---|---|---|---|---|---|---|---|---|---|---|---|---|\n",
       "| 0.22969 | 0       | 10.59   | 0       | 0.489   | 6.326   |  52.5   | 4.3549  |  4      | 277     | 18.6    | 394.87  | 10.97   | 24.4    |\n",
       "| 4.89822 | 0       | 18.10   | 0       | 0.631   | 4.970   | 100.0   | 1.3325  | 24      | 666     | 20.2    | 375.52  |  3.26   | 50.0    |\n",
       "| 0.13960 | 0       |  8.56   | 0       | 0.520   | 6.167   |  90.0   | 2.4210  |  5      | 384     | 20.9    | 392.69  | 12.33   | 20.1    |\n",
       "\n"
      ],
      "text/plain": [
       "  crim    zn indus chas nox   rm    age   dis    rad tax ptratio black  lstat\n",
       "1 0.22969 0  10.59 0    0.489 6.326  52.5 4.3549  4  277 18.6    394.87 10.97\n",
       "2 4.89822 0  18.10 0    0.631 4.970 100.0 1.3325 24  666 20.2    375.52  3.26\n",
       "3 0.13960 0   8.56 0    0.520 6.167  90.0 2.4210  5  384 20.9    392.69 12.33\n",
       "  medv\n",
       "1 24.4\n",
       "2 50.0\n",
       "3 20.1"
      ]
     },
     "metadata": {},
     "output_type": "display_data"
    }
   ],
   "source": [
    "# Load the data\n",
    "data(\"Boston\", package = \"MASS\")\n",
    "# Inspect the data\n",
    "sample_n(Boston, 3)\n",
    "# Split the data into training and test set\n",
    "set.seed(123)\n",
    "training.samples <- Boston$medv %>%\n",
    "  createDataPartition(p = 0.8, list = FALSE)\n",
    "train.data  <- Boston[training.samples, ]\n",
    "test.data <- Boston[-training.samples, ]"
   ]
  },
  {
   "cell_type": "code",
   "execution_count": 24,
   "metadata": {
    "ExecuteTime": {
     "end_time": "2019-04-05T13:14:16.218993Z",
     "start_time": "2019-04-05T13:14:15.013Z"
    }
   },
   "outputs": [
    {
     "name": "stderr",
     "output_type": "stream",
     "text": [
      "Warning message in nominalTrainWorkflow(x = x, y = y, wts = weights, info = trainInfo, :\n",
      "“There were missing values in resampled performance measures.”"
     ]
    },
    {
     "data": {
      "text/html": [
       "<table>\n",
       "<thead><tr><th scope=col>cp</th></tr></thead>\n",
       "<tbody>\n",
       "\t<tr><td>0.007165585</td></tr>\n",
       "</tbody>\n",
       "</table>\n"
      ],
      "text/latex": [
       "\\begin{tabular}{r|l}\n",
       " cp\\\\\n",
       "\\hline\n",
       "\t 0.007165585\\\\\n",
       "\\end{tabular}\n"
      ],
      "text/markdown": [
       "\n",
       "| cp |\n",
       "|---|\n",
       "| 0.007165585 |\n",
       "\n"
      ],
      "text/plain": [
       "  cp         \n",
       "1 0.007165585"
      ]
     },
     "metadata": {},
     "output_type": "display_data"
    },
    {
     "data": {
      "image/png": "[encoded data removed]",
      "text/plain": [
       "plot without title"
      ]
     },
     "metadata": {},
     "output_type": "display_data"
    }
   ],
   "source": [
    "# Fit the model on the training set\n",
    "set.seed(123)\n",
    "model <- train(\n",
    "  medv ~., data = train.data, method = \"rpart\",\n",
    "  trControl = trainControl(\"cv\", number = 10),\n",
    "  tuneLength = 10\n",
    "  )\n",
    "# Plot model error vs different values of\n",
    "# cp (complexity parameter)\n",
    "plot(model)\n",
    "# Print the best tuning parameter cp that\n",
    "# minimize the model RMSE\n",
    "model$bestTune"
   ]
  },
  {
   "cell_type": "code",
   "execution_count": 25,
   "metadata": {
    "ExecuteTime": {
     "end_time": "2019-04-05T13:20:03.866233Z",
     "start_time": "2019-04-05T13:20:03.783Z"
    }
   },
   "outputs": [
    {
     "data": {
      "image/png": "[encoded data removed]",
      "text/plain": [
       "plot without title"
      ]
     },
     "metadata": {},
     "output_type": "display_data"
    }
   ],
   "source": [
    "# Plot the final tree model\n",
    "par(xpd = NA) # Avoid clipping the text in some device\n",
    "plot(model$finalModel)\n",
    "text(model$finalModel, digits = 3)"
   ]
  },
  {
   "cell_type": "code",
   "execution_count": 27,
   "metadata": {
    "ExecuteTime": {
     "end_time": "2019-04-05T13:20:38.097324Z",
     "start_time": "2019-04-05T13:20:38.054Z"
    }
   },
   "outputs": [
    {
     "data": {
      "text/plain": [
       "n= 407 \n",
       "\n",
       "node), split, n, deviance, yval\n",
       "      * denotes terminal node\n",
       "\n",
       " 1) root 407 35292.0500 22.739310  \n",
       "   2) rm< 6.974 348 13999.9200 20.056320  \n",
       "     4) lstat>=14.4 143  2641.2730 15.093010  \n",
       "       8) nox>=0.607 87   965.8699 12.998850  \n",
       "        16) crim>=11.36915 26   144.7465  9.811538 *\n",
       "        17) crim< 11.36915 61   444.4092 14.357380 *\n",
       "       9) nox< 0.607 56   701.1193 18.346430 *\n",
       "     5) lstat< 14.4 205  5378.5900 23.518540  \n",
       "      10) lstat>=9.95 90   492.0000 20.666670 *\n",
       "      11) lstat< 9.95 115  3581.7470 25.750430  \n",
       "        22) nox< 0.618 108  1736.0900 25.050000  \n",
       "          44) rm< 6.543 65   494.5222 23.052310 *\n",
       "          45) rm>=6.543 43   590.0507 28.069770 *\n",
       "        23) nox>=0.618 7   975.1771 36.557140 *\n",
       "   3) rm>=6.974 59  4011.4950 38.564410  \n",
       "     6) rm< 7.437 30   522.6897 32.303330 *\n",
       "     7) rm>=7.437 29  1096.1900 45.041380  \n",
       "      14) ptratio>=17.6 7   465.9686 38.885710 *\n",
       "      15) ptratio< 17.6 22   280.5800 47.000000 *"
      ]
     },
     "metadata": {},
     "output_type": "display_data"
    }
   ],
   "source": [
    "# Decision rules in the model\n",
    "model$finalModel"
   ]
  },
  {
   "cell_type": "code",
   "execution_count": 29,
   "metadata": {
    "ExecuteTime": {
     "end_time": "2019-04-05T13:20:45.316624Z",
     "start_time": "2019-04-05T13:20:45.276Z"
    }
   },
   "outputs": [
    {
     "data": {
      "text/html": [
       "<dl class=dl-horizontal>\n",
       "\t<dt>3</dt>\n",
       "\t\t<dd>32.3033333333333</dd>\n",
       "\t<dt>5</dt>\n",
       "\t\t<dd>32.3033333333333</dd>\n",
       "\t<dt>11</dt>\n",
       "\t\t<dd>18.3464285714286</dd>\n",
       "\t<dt>12</dt>\n",
       "\t\t<dd>20.6666666666667</dd>\n",
       "\t<dt>14</dt>\n",
       "\t\t<dd>23.0523076923077</dd>\n",
       "\t<dt>15</dt>\n",
       "\t\t<dd>20.6666666666667</dd>\n",
       "</dl>\n"
      ],
      "text/latex": [
       "\\begin{description*}\n",
       "\\item[3] 32.3033333333333\n",
       "\\item[5] 32.3033333333333\n",
       "\\item[11] 18.3464285714286\n",
       "\\item[12] 20.6666666666667\n",
       "\\item[14] 23.0523076923077\n",
       "\\item[15] 20.6666666666667\n",
       "\\end{description*}\n"
      ],
      "text/markdown": [
       "3\n",
       ":   32.30333333333335\n",
       ":   32.303333333333311\n",
       ":   18.346428571428612\n",
       ":   20.666666666666714\n",
       ":   23.052307692307715\n",
       ":   20.6666666666667\n",
       "\n"
      ],
      "text/plain": [
       "       3        5       11       12       14       15 \n",
       "32.30333 32.30333 18.34643 20.66667 23.05231 20.66667 "
      ]
     },
     "metadata": {},
     "output_type": "display_data"
    }
   ],
   "source": [
    "# Make predictions on the test data\n",
    "predictions <- model %>% predict(test.data)\n",
    "head(predictions)"
   ]
  },
  {
   "cell_type": "code",
   "execution_count": 30,
   "metadata": {
    "ExecuteTime": {
     "end_time": "2019-04-05T13:20:47.643965Z",
     "start_time": "2019-04-05T13:20:47.609Z"
    }
   },
   "outputs": [
    {
     "data": {
      "text/html": [
       "4.54520668914093"
      ],
      "text/latex": [
       "4.54520668914093"
      ],
      "text/markdown": [
       "4.54520668914093"
      ],
      "text/plain": [
       "[1] 4.545207"
      ]
     },
     "metadata": {},
     "output_type": "display_data"
    }
   ],
   "source": [
    "# Compute the prediction error RMSE\n",
    "RMSE(predictions, test.data$medv)"
   ]
  },
  {
   "cell_type": "code",
   "execution_count": null,
   "metadata": {},
   "outputs": [],
   "source": []
  }
 ],
 "metadata": {
  "kernelspec": {
   "display_name": "R 3.4",
   "language": "R",
   "name": "ir34"
  },
  "language_info": {
   "codemirror_mode": "r",
   "file_extension": ".r",
   "mimetype": "text/x-r-source",
   "name": "R",
   "pygments_lexer": "r",
   "version": "3.5.3"
  },
  "toc": {
   "nav_menu": {},
   "number_sections": false,
   "sideBar": true,
   "skip_h1_title": false,
   "title_cell": "Table of Contents",
   "title_sidebar": "Contents",
   "toc_cell": false,
   "toc_position": {
    "height": "calc(100% - 180px)",
    "left": "10px",
    "top": "150px",
    "width": "273.2px"
   },
   "toc_section_display": true,
   "toc_window_display": true
  }
 },
 "nbformat": 4,
 "nbformat_minor": 2
}
