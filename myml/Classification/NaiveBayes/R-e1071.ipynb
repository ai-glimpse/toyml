{
 "cells": [
  {
   "cell_type": "markdown",
   "metadata": {},
   "source": [
    "### R调用Naive Bayes算法\n",
    "\n",
    "从`e1071`库调用， 参考其[文档](https://cran.r-project.org/web/packages/e1071/e1071.pdf)。"
   ]
  },
  {
   "cell_type": "markdown",
   "metadata": {},
   "source": [
    "#### Categorical data only"
   ]
  },
  {
   "cell_type": "code",
   "execution_count": 3,
   "metadata": {
    "ExecuteTime": {
     "end_time": "2019-06-11T03:03:21.119777Z",
     "start_time": "2019-06-11T03:03:21.072Z"
    }
   },
   "outputs": [
    {
     "data": {
      "text/html": [
       "<table>\n",
       "<caption>A data.frame: 6 × 17</caption>\n",
       "<thead>\n",
       "\t<tr><th scope=col>Class</th><th scope=col>V1</th><th scope=col>V2</th><th scope=col>V3</th><th scope=col>V4</th><th scope=col>V5</th><th scope=col>V6</th><th scope=col>V7</th><th scope=col>V8</th><th scope=col>V9</th><th scope=col>V10</th><th scope=col>V11</th><th scope=col>V12</th><th scope=col>V13</th><th scope=col>V14</th><th scope=col>V15</th><th scope=col>V16</th></tr>\n",
       "\t<tr><th scope=col>&lt;fct&gt;</th><th scope=col>&lt;fct&gt;</th><th scope=col>&lt;fct&gt;</th><th scope=col>&lt;fct&gt;</th><th scope=col>&lt;fct&gt;</th><th scope=col>&lt;fct&gt;</th><th scope=col>&lt;fct&gt;</th><th scope=col>&lt;fct&gt;</th><th scope=col>&lt;fct&gt;</th><th scope=col>&lt;fct&gt;</th><th scope=col>&lt;fct&gt;</th><th scope=col>&lt;fct&gt;</th><th scope=col>&lt;fct&gt;</th><th scope=col>&lt;fct&gt;</th><th scope=col>&lt;fct&gt;</th><th scope=col>&lt;fct&gt;</th><th scope=col>&lt;fct&gt;</th></tr>\n",
       "</thead>\n",
       "<tbody>\n",
       "\t<tr><td>republican</td><td>n </td><td>y</td><td>n</td><td>y </td><td>y </td><td>y</td><td>n</td><td>n</td><td>n</td><td>y</td><td>NA</td><td>y </td><td>y</td><td>y</td><td>n</td><td>y </td></tr>\n",
       "\t<tr><td>republican</td><td>n </td><td>y</td><td>n</td><td>y </td><td>y </td><td>y</td><td>n</td><td>n</td><td>n</td><td>n</td><td>n </td><td>y </td><td>y</td><td>y</td><td>n</td><td>NA</td></tr>\n",
       "\t<tr><td>democrat  </td><td>NA</td><td>y</td><td>y</td><td>NA</td><td>y </td><td>y</td><td>n</td><td>n</td><td>n</td><td>n</td><td>y </td><td>n </td><td>y</td><td>y</td><td>n</td><td>n </td></tr>\n",
       "\t<tr><td>democrat  </td><td>n </td><td>y</td><td>y</td><td>n </td><td>NA</td><td>y</td><td>n</td><td>n</td><td>n</td><td>n</td><td>y </td><td>n </td><td>y</td><td>n</td><td>n</td><td>y </td></tr>\n",
       "\t<tr><td>democrat  </td><td>y </td><td>y</td><td>y</td><td>n </td><td>y </td><td>y</td><td>n</td><td>n</td><td>n</td><td>n</td><td>y </td><td>NA</td><td>y</td><td>y</td><td>y</td><td>y </td></tr>\n",
       "\t<tr><td>democrat  </td><td>n </td><td>y</td><td>y</td><td>n </td><td>y </td><td>y</td><td>n</td><td>n</td><td>n</td><td>n</td><td>n </td><td>n </td><td>y</td><td>y</td><td>y</td><td>y </td></tr>\n",
       "</tbody>\n",
       "</table>\n"
      ],
      "text/latex": [
       "A data.frame: 6 × 17\n",
       "\\begin{tabular}{r|lllllllllllllllll}\n",
       " Class & V1 & V2 & V3 & V4 & V5 & V6 & V7 & V8 & V9 & V10 & V11 & V12 & V13 & V14 & V15 & V16\\\\\n",
       " <fct> & <fct> & <fct> & <fct> & <fct> & <fct> & <fct> & <fct> & <fct> & <fct> & <fct> & <fct> & <fct> & <fct> & <fct> & <fct> & <fct>\\\\\n",
       "\\hline\n",
       "\t republican & n  & y & n & y  & y  & y & n & n & n & y & NA & y  & y & y & n & y \\\\\n",
       "\t republican & n  & y & n & y  & y  & y & n & n & n & n & n  & y  & y & y & n & NA\\\\\n",
       "\t democrat   & NA & y & y & NA & y  & y & n & n & n & n & y  & n  & y & y & n & n \\\\\n",
       "\t democrat   & n  & y & y & n  & NA & y & n & n & n & n & y  & n  & y & n & n & y \\\\\n",
       "\t democrat   & y  & y & y & n  & y  & y & n & n & n & n & y  & NA & y & y & y & y \\\\\n",
       "\t democrat   & n  & y & y & n  & y  & y & n & n & n & n & n  & n  & y & y & y & y \\\\\n",
       "\\end{tabular}\n"
      ],
      "text/markdown": [
       "\n",
       "A data.frame: 6 × 17\n",
       "\n",
       "| Class &lt;fct&gt; | V1 &lt;fct&gt; | V2 &lt;fct&gt; | V3 &lt;fct&gt; | V4 &lt;fct&gt; | V5 &lt;fct&gt; | V6 &lt;fct&gt; | V7 &lt;fct&gt; | V8 &lt;fct&gt; | V9 &lt;fct&gt; | V10 &lt;fct&gt; | V11 &lt;fct&gt; | V12 &lt;fct&gt; | V13 &lt;fct&gt; | V14 &lt;fct&gt; | V15 &lt;fct&gt; | V16 &lt;fct&gt; |\n",
       "|---|---|---|---|---|---|---|---|---|---|---|---|---|---|---|---|---|\n",
       "| republican | n  | y | n | y  | y  | y | n | n | n | y | NA | y  | y | y | n | y  |\n",
       "| republican | n  | y | n | y  | y  | y | n | n | n | n | n  | y  | y | y | n | NA |\n",
       "| democrat   | NA | y | y | NA | y  | y | n | n | n | n | y  | n  | y | y | n | n  |\n",
       "| democrat   | n  | y | y | n  | NA | y | n | n | n | n | y  | n  | y | n | n | y  |\n",
       "| democrat   | y  | y | y | n  | y  | y | n | n | n | n | y  | NA | y | y | y | y  |\n",
       "| democrat   | n  | y | y | n  | y  | y | n | n | n | n | n  | n  | y | y | y | y  |\n",
       "\n"
      ],
      "text/plain": [
       "  Class      V1 V2 V3 V4 V5 V6 V7 V8 V9 V10 V11 V12 V13 V14 V15 V16\n",
       "1 republican n  y  n  y  y  y  n  n  n  y   NA  y   y   y   n   y  \n",
       "2 republican n  y  n  y  y  y  n  n  n  n   n   y   y   y   n   NA \n",
       "3 democrat   NA y  y  NA y  y  n  n  n  n   y   n   y   y   n   n  \n",
       "4 democrat   n  y  y  n  NA y  n  n  n  n   y   n   y   n   n   y  \n",
       "5 democrat   y  y  y  n  y  y  n  n  n  n   y   NA  y   y   y   y  \n",
       "6 democrat   n  y  y  n  y  y  n  n  n  n   n   n   y   y   y   y  "
      ]
     },
     "metadata": {},
     "output_type": "display_data"
    }
   ],
   "source": [
    "library(e1071)\n",
    "data(HouseVotes84, package = \"mlbench\")\n",
    "head(HouseVotes84)"
   ]
  },
  {
   "cell_type": "code",
   "execution_count": 20,
   "metadata": {
    "ExecuteTime": {
     "end_time": "2019-06-11T03:09:21.392013Z",
     "start_time": "2019-06-11T03:09:21.340Z"
    }
   },
   "outputs": [
    {
     "name": "stdout",
     "output_type": "stream",
     "text": [
      "'data.frame':\t435 obs. of  17 variables:\n",
      " $ Class: Factor w/ 2 levels \"democrat\",\"republican\": 2 2 1 1 1 1 1 2 2 1 ...\n",
      " $ V1   : Factor w/ 2 levels \"n\",\"y\": 1 1 NA 1 2 1 1 1 1 2 ...\n",
      " $ V2   : Factor w/ 2 levels \"n\",\"y\": 2 2 2 2 2 2 2 2 2 2 ...\n",
      " $ V3   : Factor w/ 2 levels \"n\",\"y\": 1 1 2 2 2 2 1 1 1 2 ...\n",
      " $ V4   : Factor w/ 2 levels \"n\",\"y\": 2 2 NA 1 1 1 2 2 2 1 ...\n",
      " $ V5   : Factor w/ 2 levels \"n\",\"y\": 2 2 2 NA 2 2 2 2 2 1 ...\n",
      " $ V6   : Factor w/ 2 levels \"n\",\"y\": 2 2 2 2 2 2 2 2 2 1 ...\n",
      " $ V7   : Factor w/ 2 levels \"n\",\"y\": 1 1 1 1 1 1 1 1 1 2 ...\n",
      " $ V8   : Factor w/ 2 levels \"n\",\"y\": 1 1 1 1 1 1 1 1 1 2 ...\n",
      " $ V9   : Factor w/ 2 levels \"n\",\"y\": 1 1 1 1 1 1 1 1 1 2 ...\n",
      " $ V10  : Factor w/ 2 levels \"n\",\"y\": 2 1 1 1 1 1 1 1 1 1 ...\n",
      " $ V11  : Factor w/ 2 levels \"n\",\"y\": NA 1 2 2 2 1 1 1 1 1 ...\n",
      " $ V12  : Factor w/ 2 levels \"n\",\"y\": 2 2 1 1 NA 1 1 1 2 1 ...\n",
      " $ V13  : Factor w/ 2 levels \"n\",\"y\": 2 2 2 2 2 2 NA 2 2 1 ...\n",
      " $ V14  : Factor w/ 2 levels \"n\",\"y\": 2 2 2 1 2 2 2 2 2 1 ...\n",
      " $ V15  : Factor w/ 2 levels \"n\",\"y\": 1 1 1 1 2 2 2 NA 1 NA ...\n",
      " $ V16  : Factor w/ 2 levels \"n\",\"y\": 2 NA 1 2 2 2 2 2 2 NA ...\n"
     ]
    }
   ],
   "source": [
    "str(HouseVotes84)"
   ]
  },
  {
   "cell_type": "code",
   "execution_count": 4,
   "metadata": {
    "ExecuteTime": {
     "end_time": "2019-06-11T03:04:02.157587Z",
     "start_time": "2019-06-11T03:04:02.118Z"
    }
   },
   "outputs": [],
   "source": [
    "model <- naiveBayes(Class ~ ., data = HouseVotes84)"
   ]
  },
  {
   "cell_type": "code",
   "execution_count": 5,
   "metadata": {
    "ExecuteTime": {
     "end_time": "2019-06-11T03:04:03.635916Z",
     "start_time": "2019-06-11T03:04:03.579Z"
    }
   },
   "outputs": [
    {
     "data": {
      "text/html": [
       "<ol class=list-inline>\n",
       "\t<li>republican</li>\n",
       "\t<li>republican</li>\n",
       "\t<li>republican</li>\n",
       "\t<li>democrat</li>\n",
       "\t<li>democrat</li>\n",
       "\t<li>democrat</li>\n",
       "\t<li>republican</li>\n",
       "\t<li>republican</li>\n",
       "\t<li>republican</li>\n",
       "\t<li>democrat</li>\n",
       "</ol>\n",
       "\n",
       "<details>\n",
       "\t<summary style=display:list-item;cursor:pointer>\n",
       "\t\t<strong>Levels</strong>:\n",
       "\t</summary>\n",
       "\t<ol class=list-inline>\n",
       "\t\t<li>'democrat'</li>\n",
       "\t\t<li>'republican'</li>\n",
       "\t</ol>\n",
       "</details>"
      ],
      "text/latex": [
       "\\begin{enumerate*}\n",
       "\\item republican\n",
       "\\item republican\n",
       "\\item republican\n",
       "\\item democrat\n",
       "\\item democrat\n",
       "\\item democrat\n",
       "\\item republican\n",
       "\\item republican\n",
       "\\item republican\n",
       "\\item democrat\n",
       "\\end{enumerate*}\n",
       "\n",
       "\\emph{Levels}: \\begin{enumerate*}\n",
       "\\item 'democrat'\n",
       "\\item 'republican'\n",
       "\\end{enumerate*}\n"
      ],
      "text/markdown": [
       "1. republican\n",
       "2. republican\n",
       "3. republican\n",
       "4. democrat\n",
       "5. democrat\n",
       "6. democrat\n",
       "7. republican\n",
       "8. republican\n",
       "9. republican\n",
       "10. democrat\n",
       "\n",
       "\n",
       "\n",
       "**Levels**: 1. 'democrat'\n",
       "2. 'republican'\n",
       "\n",
       "\n"
      ],
      "text/plain": [
       " [1] republican republican republican democrat   democrat   democrat  \n",
       " [7] republican republican republican democrat  \n",
       "Levels: democrat republican"
      ]
     },
     "metadata": {},
     "output_type": "display_data"
    }
   ],
   "source": [
    "predict(model, HouseVotes84[1:10,])"
   ]
  },
  {
   "cell_type": "code",
   "execution_count": 6,
   "metadata": {
    "ExecuteTime": {
     "end_time": "2019-06-11T03:04:13.271754Z",
     "start_time": "2019-06-11T03:04:13.212Z"
    }
   },
   "outputs": [
    {
     "data": {
      "text/html": [
       "<table>\n",
       "<caption>A matrix: 10 × 2 of type dbl</caption>\n",
       "<thead>\n",
       "\t<tr><th scope=col>democrat</th><th scope=col>republican</th></tr>\n",
       "</thead>\n",
       "<tbody>\n",
       "\t<tr><td>1.029209e-07</td><td>9.999999e-01</td></tr>\n",
       "\t<tr><td>5.820415e-08</td><td>9.999999e-01</td></tr>\n",
       "\t<tr><td>5.684937e-03</td><td>9.943151e-01</td></tr>\n",
       "\t<tr><td>9.985798e-01</td><td>1.420152e-03</td></tr>\n",
       "\t<tr><td>9.666720e-01</td><td>3.332802e-02</td></tr>\n",
       "\t<tr><td>8.121430e-01</td><td>1.878570e-01</td></tr>\n",
       "\t<tr><td>1.751512e-04</td><td>9.998248e-01</td></tr>\n",
       "\t<tr><td>8.300100e-06</td><td>9.999917e-01</td></tr>\n",
       "\t<tr><td>8.277705e-08</td><td>9.999999e-01</td></tr>\n",
       "\t<tr><td>1.000000e+00</td><td>5.029425e-11</td></tr>\n",
       "</tbody>\n",
       "</table>\n"
      ],
      "text/latex": [
       "A matrix: 10 × 2 of type dbl\n",
       "\\begin{tabular}{ll}\n",
       " democrat & republican\\\\\n",
       "\\hline\n",
       "\t 1.029209e-07 & 9.999999e-01\\\\\n",
       "\t 5.820415e-08 & 9.999999e-01\\\\\n",
       "\t 5.684937e-03 & 9.943151e-01\\\\\n",
       "\t 9.985798e-01 & 1.420152e-03\\\\\n",
       "\t 9.666720e-01 & 3.332802e-02\\\\\n",
       "\t 8.121430e-01 & 1.878570e-01\\\\\n",
       "\t 1.751512e-04 & 9.998248e-01\\\\\n",
       "\t 8.300100e-06 & 9.999917e-01\\\\\n",
       "\t 8.277705e-08 & 9.999999e-01\\\\\n",
       "\t 1.000000e+00 & 5.029425e-11\\\\\n",
       "\\end{tabular}\n"
      ],
      "text/markdown": [
       "\n",
       "A matrix: 10 × 2 of type dbl\n",
       "\n",
       "| democrat | republican |\n",
       "|---|---|\n",
       "| 1.029209e-07 | 9.999999e-01 |\n",
       "| 5.820415e-08 | 9.999999e-01 |\n",
       "| 5.684937e-03 | 9.943151e-01 |\n",
       "| 9.985798e-01 | 1.420152e-03 |\n",
       "| 9.666720e-01 | 3.332802e-02 |\n",
       "| 8.121430e-01 | 1.878570e-01 |\n",
       "| 1.751512e-04 | 9.998248e-01 |\n",
       "| 8.300100e-06 | 9.999917e-01 |\n",
       "| 8.277705e-08 | 9.999999e-01 |\n",
       "| 1.000000e+00 | 5.029425e-11 |\n",
       "\n"
      ],
      "text/plain": [
       "      democrat     republican  \n",
       " [1,] 1.029209e-07 9.999999e-01\n",
       " [2,] 5.820415e-08 9.999999e-01\n",
       " [3,] 5.684937e-03 9.943151e-01\n",
       " [4,] 9.985798e-01 1.420152e-03\n",
       " [5,] 9.666720e-01 3.332802e-02\n",
       " [6,] 8.121430e-01 1.878570e-01\n",
       " [7,] 1.751512e-04 9.998248e-01\n",
       " [8,] 8.300100e-06 9.999917e-01\n",
       " [9,] 8.277705e-08 9.999999e-01\n",
       "[10,] 1.000000e+00 5.029425e-11"
      ]
     },
     "metadata": {},
     "output_type": "display_data"
    }
   ],
   "source": [
    "predict(model, HouseVotes84[1:10,], type='raw')"
   ]
  },
  {
   "cell_type": "code",
   "execution_count": 7,
   "metadata": {
    "ExecuteTime": {
     "end_time": "2019-06-11T03:05:30.152001Z",
     "start_time": "2019-06-11T03:05:29.936Z"
    }
   },
   "outputs": [
    {
     "data": {
      "text/plain": [
       "            \n",
       "pred         democrat republican\n",
       "  democrat        238         13\n",
       "  republican       29        155"
      ]
     },
     "metadata": {},
     "output_type": "display_data"
    }
   ],
   "source": [
    "# 预测效果\n",
    "pred <- predict(model, HouseVotes84)\n",
    "table(pred, HouseVotes84$Class)"
   ]
  },
  {
   "cell_type": "markdown",
   "metadata": {},
   "source": [
    "#### Using laplace smoothing"
   ]
  },
  {
   "cell_type": "code",
   "execution_count": 11,
   "metadata": {
    "ExecuteTime": {
     "end_time": "2019-06-11T03:06:40.623177Z",
     "start_time": "2019-06-11T03:06:40.409Z"
    }
   },
   "outputs": [
    {
     "data": {
      "text/plain": [
       "            \n",
       "pred         democrat republican\n",
       "  democrat        237         12\n",
       "  republican       30        156"
      ]
     },
     "metadata": {},
     "output_type": "display_data"
    }
   ],
   "source": [
    "model <- naiveBayes(Class ~ ., data = HouseVotes84, laplace = 3)\n",
    "pred <- predict(model, HouseVotes84[,-1])\n",
    "table(pred, HouseVotes84$Class)"
   ]
  },
  {
   "cell_type": "markdown",
   "metadata": {},
   "source": [
    "#### Using a contingency table"
   ]
  },
  {
   "cell_type": "code",
   "execution_count": 19,
   "metadata": {
    "ExecuteTime": {
     "end_time": "2019-06-11T03:08:53.713817Z",
     "start_time": "2019-06-11T03:08:53.664Z"
    }
   },
   "outputs": [
    {
     "name": "stdout",
     "output_type": "stream",
     "text": [
      " 'table' num [1:4, 1:2, 1:2, 1:2] 0 0 35 0 0 0 17 0 118 154 ...\n",
      " - attr(*, \"dimnames\")=List of 4\n",
      "  ..$ Class   : chr [1:4] \"1st\" \"2nd\" \"3rd\" \"Crew\"\n",
      "  ..$ Sex     : chr [1:2] \"Male\" \"Female\"\n",
      "  ..$ Age     : chr [1:2] \"Child\" \"Adult\"\n",
      "  ..$ Survived: chr [1:2] \"No\" \"Yes\"\n"
     ]
    }
   ],
   "source": [
    "data(Titanic)\n",
    "str(Titanic)"
   ]
  },
  {
   "cell_type": "code",
   "execution_count": 21,
   "metadata": {
    "ExecuteTime": {
     "end_time": "2019-06-11T03:09:43.378313Z",
     "start_time": "2019-06-11T03:09:43.341Z"
    }
   },
   "outputs": [
    {
     "data": {
      "text/plain": [
       "\n",
       "Naive Bayes Classifier for Discrete Predictors\n",
       "\n",
       "Call:\n",
       "naiveBayes.formula(formula = Survived ~ ., data = Titanic)\n",
       "\n",
       "A-priori probabilities:\n",
       "Survived\n",
       "      No      Yes \n",
       "0.676965 0.323035 \n",
       "\n",
       "Conditional probabilities:\n",
       "        Class\n",
       "Survived        1st        2nd        3rd       Crew\n",
       "     No  0.08187919 0.11208054 0.35436242 0.45167785\n",
       "     Yes 0.28551336 0.16596343 0.25035162 0.29817159\n",
       "\n",
       "        Sex\n",
       "Survived       Male     Female\n",
       "     No  0.91543624 0.08456376\n",
       "     Yes 0.51617440 0.48382560\n",
       "\n",
       "        Age\n",
       "Survived      Child      Adult\n",
       "     No  0.03489933 0.96510067\n",
       "     Yes 0.08016878 0.91983122\n"
      ]
     },
     "metadata": {},
     "output_type": "display_data"
    }
   ],
   "source": [
    "m <- naiveBayes(Survived ~ ., data = Titanic)\n",
    "m"
   ]
  },
  {
   "cell_type": "code",
   "execution_count": 22,
   "metadata": {
    "ExecuteTime": {
     "end_time": "2019-06-11T03:09:59.419808Z",
     "start_time": "2019-06-11T03:09:59.375Z"
    }
   },
   "outputs": [
    {
     "data": {
      "text/html": [
       "<ol class=list-inline>\n",
       "\t<li>Yes</li>\n",
       "\t<li>No</li>\n",
       "\t<li>No</li>\n",
       "\t<li>No</li>\n",
       "\t<li>Yes</li>\n",
       "\t<li>Yes</li>\n",
       "\t<li>Yes</li>\n",
       "\t<li>Yes</li>\n",
       "\t<li>No</li>\n",
       "\t<li>No</li>\n",
       "\t<li>No</li>\n",
       "\t<li>No</li>\n",
       "\t<li>Yes</li>\n",
       "\t<li>Yes</li>\n",
       "\t<li>Yes</li>\n",
       "\t<li>Yes</li>\n",
       "\t<li>Yes</li>\n",
       "\t<li>No</li>\n",
       "\t<li>No</li>\n",
       "\t<li>No</li>\n",
       "\t<li>Yes</li>\n",
       "\t<li>Yes</li>\n",
       "\t<li>Yes</li>\n",
       "\t<li>Yes</li>\n",
       "\t<li>No</li>\n",
       "\t<li>No</li>\n",
       "\t<li>No</li>\n",
       "\t<li>No</li>\n",
       "\t<li>Yes</li>\n",
       "\t<li>Yes</li>\n",
       "\t<li>Yes</li>\n",
       "\t<li>Yes</li>\n",
       "</ol>\n",
       "\n",
       "<details>\n",
       "\t<summary style=display:list-item;cursor:pointer>\n",
       "\t\t<strong>Levels</strong>:\n",
       "\t</summary>\n",
       "\t<ol class=list-inline>\n",
       "\t\t<li>'No'</li>\n",
       "\t\t<li>'Yes'</li>\n",
       "\t</ol>\n",
       "</details>"
      ],
      "text/latex": [
       "\\begin{enumerate*}\n",
       "\\item Yes\n",
       "\\item No\n",
       "\\item No\n",
       "\\item No\n",
       "\\item Yes\n",
       "\\item Yes\n",
       "\\item Yes\n",
       "\\item Yes\n",
       "\\item No\n",
       "\\item No\n",
       "\\item No\n",
       "\\item No\n",
       "\\item Yes\n",
       "\\item Yes\n",
       "\\item Yes\n",
       "\\item Yes\n",
       "\\item Yes\n",
       "\\item No\n",
       "\\item No\n",
       "\\item No\n",
       "\\item Yes\n",
       "\\item Yes\n",
       "\\item Yes\n",
       "\\item Yes\n",
       "\\item No\n",
       "\\item No\n",
       "\\item No\n",
       "\\item No\n",
       "\\item Yes\n",
       "\\item Yes\n",
       "\\item Yes\n",
       "\\item Yes\n",
       "\\end{enumerate*}\n",
       "\n",
       "\\emph{Levels}: \\begin{enumerate*}\n",
       "\\item 'No'\n",
       "\\item 'Yes'\n",
       "\\end{enumerate*}\n"
      ],
      "text/markdown": [
       "1. Yes\n",
       "2. No\n",
       "3. No\n",
       "4. No\n",
       "5. Yes\n",
       "6. Yes\n",
       "7. Yes\n",
       "8. Yes\n",
       "9. No\n",
       "10. No\n",
       "11. No\n",
       "12. No\n",
       "13. Yes\n",
       "14. Yes\n",
       "15. Yes\n",
       "16. Yes\n",
       "17. Yes\n",
       "18. No\n",
       "19. No\n",
       "20. No\n",
       "21. Yes\n",
       "22. Yes\n",
       "23. Yes\n",
       "24. Yes\n",
       "25. No\n",
       "26. No\n",
       "27. No\n",
       "28. No\n",
       "29. Yes\n",
       "30. Yes\n",
       "31. Yes\n",
       "32. Yes\n",
       "\n",
       "\n",
       "\n",
       "**Levels**: 1. 'No'\n",
       "2. 'Yes'\n",
       "\n",
       "\n"
      ],
      "text/plain": [
       " [1] Yes No  No  No  Yes Yes Yes Yes No  No  No  No  Yes Yes Yes Yes Yes No  No \n",
       "[20] No  Yes Yes Yes Yes No  No  No  No  Yes Yes Yes Yes\n",
       "Levels: No Yes"
      ]
     },
     "metadata": {},
     "output_type": "display_data"
    }
   ],
   "source": [
    "predict(m, as.data.frame(Titanic))"
   ]
  },
  {
   "cell_type": "markdown",
   "metadata": {},
   "source": [
    "#### With metric predictors"
   ]
  },
  {
   "cell_type": "code",
   "execution_count": 23,
   "metadata": {
    "ExecuteTime": {
     "end_time": "2019-06-11T03:10:26.780026Z",
     "start_time": "2019-06-11T03:10:26.719Z"
    }
   },
   "outputs": [
    {
     "name": "stdout",
     "output_type": "stream",
     "text": [
      "'data.frame':\t150 obs. of  5 variables:\n",
      " $ Sepal.Length: num  5.1 4.9 4.7 4.6 5 5.4 4.6 5 4.4 4.9 ...\n",
      " $ Sepal.Width : num  3.5 3 3.2 3.1 3.6 3.9 3.4 3.4 2.9 3.1 ...\n",
      " $ Petal.Length: num  1.4 1.4 1.3 1.5 1.4 1.7 1.4 1.5 1.4 1.5 ...\n",
      " $ Petal.Width : num  0.2 0.2 0.2 0.2 0.2 0.4 0.3 0.2 0.2 0.1 ...\n",
      " $ Species     : Factor w/ 3 levels \"setosa\",\"versicolor\",..: 1 1 1 1 1 1 1 1 1 1 ...\n"
     ]
    }
   ],
   "source": [
    "data(iris)\n",
    "str(iris)"
   ]
  },
  {
   "cell_type": "code",
   "execution_count": 24,
   "metadata": {
    "ExecuteTime": {
     "end_time": "2019-06-11T03:10:42.626672Z",
     "start_time": "2019-06-11T03:10:42.562Z"
    }
   },
   "outputs": [
    {
     "data": {
      "text/plain": [
       "\n",
       "Naive Bayes Classifier for Discrete Predictors\n",
       "\n",
       "Call:\n",
       "naiveBayes.default(x = X, y = Y, laplace = laplace)\n",
       "\n",
       "A-priori probabilities:\n",
       "Y\n",
       "    setosa versicolor  virginica \n",
       " 0.3333333  0.3333333  0.3333333 \n",
       "\n",
       "Conditional probabilities:\n",
       "            Sepal.Length\n",
       "Y             [,1]      [,2]\n",
       "  setosa     5.006 0.3524897\n",
       "  versicolor 5.936 0.5161711\n",
       "  virginica  6.588 0.6358796\n",
       "\n",
       "            Sepal.Width\n",
       "Y             [,1]      [,2]\n",
       "  setosa     3.428 0.3790644\n",
       "  versicolor 2.770 0.3137983\n",
       "  virginica  2.974 0.3224966\n",
       "\n",
       "            Petal.Length\n",
       "Y             [,1]      [,2]\n",
       "  setosa     1.462 0.1736640\n",
       "  versicolor 4.260 0.4699110\n",
       "  virginica  5.552 0.5518947\n",
       "\n",
       "            Petal.Width\n",
       "Y             [,1]      [,2]\n",
       "  setosa     0.246 0.1053856\n",
       "  versicolor 1.326 0.1977527\n",
       "  virginica  2.026 0.2746501\n"
      ]
     },
     "metadata": {},
     "output_type": "display_data"
    }
   ],
   "source": [
    "m <- naiveBayes(Species ~ ., data = iris)\n",
    "m"
   ]
  },
  {
   "cell_type": "code",
   "execution_count": 25,
   "metadata": {
    "ExecuteTime": {
     "end_time": "2019-06-11T03:10:53.728551Z",
     "start_time": "2019-06-11T03:10:53.636Z"
    }
   },
   "outputs": [
    {
     "data": {
      "text/plain": [
       "            \n",
       "             setosa versicolor virginica\n",
       "  setosa         50          0         0\n",
       "  versicolor      0         47         3\n",
       "  virginica       0          3        47"
      ]
     },
     "metadata": {},
     "output_type": "display_data"
    }
   ],
   "source": [
    "table(predict(m, iris), iris[,5])"
   ]
  },
  {
   "cell_type": "code",
   "execution_count": null,
   "metadata": {},
   "outputs": [],
   "source": []
  }
 ],
 "metadata": {
  "kernelspec": {
   "display_name": "R 3.5",
   "language": "R",
   "name": "ir35"
  },
  "language_info": {
   "codemirror_mode": "r",
   "file_extension": ".r",
   "mimetype": "text/x-r-source",
   "name": "R",
   "pygments_lexer": "r",
   "version": "3.6.0"
  },
  "toc": {
   "nav_menu": {},
   "number_sections": false,
   "sideBar": true,
   "skip_h1_title": false,
   "title_cell": "Table of Contents",
   "title_sidebar": "Contents",
   "toc_cell": false,
   "toc_position": {},
   "toc_section_display": true,
   "toc_window_display": true
  }
 },
 "nbformat": 4,
 "nbformat_minor": 2
}
